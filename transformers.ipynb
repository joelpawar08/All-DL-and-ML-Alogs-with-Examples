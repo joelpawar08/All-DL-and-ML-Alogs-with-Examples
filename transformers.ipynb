{
  "nbformat": 4,
  "nbformat_minor": 0,
  "metadata": {
    "colab": {
      "provenance": [],
      "gpuType": "T4",
      "authorship_tag": "ABX9TyMDtrkT0IJpAx6b3o+ILUL8",
      "include_colab_link": true
    },
    "kernelspec": {
      "name": "python3",
      "display_name": "Python 3"
    },
    "language_info": {
      "name": "python"
    },
    "accelerator": "GPU"
  },
  "cells": [
    {
      "cell_type": "markdown",
      "metadata": {
        "id": "view-in-github",
        "colab_type": "text"
      },
      "source": [
        "<a href=\"https://colab.research.google.com/github/joelpawar08/All-DL-and-ML-Alogs-with-Examples/blob/master/transformers.ipynb\" target=\"_parent\"><img src=\"https://colab.research.google.com/assets/colab-badge.svg\" alt=\"Open In Colab\"/></a>"
      ]
    },
    {
      "cell_type": "markdown",
      "source": [
        "📦 Setup & Imports"
      ],
      "metadata": {
        "id": "7NF_XT5Ey5Kw"
      }
    },
    {
      "cell_type": "code",
      "execution_count": 3,
      "metadata": {
        "colab": {
          "base_uri": "https://localhost:8080/"
        },
        "id": "DVpCN-m2yFQx",
        "outputId": "e1ae56d4-b849-4909-b128-03dcc0d3af8d"
      },
      "outputs": [
        {
          "output_type": "stream",
          "name": "stdout",
          "text": [
            "PyTorch version: 2.8.0+cu126\n",
            "Device: cuda\n"
          ]
        }
      ],
      "source": [
        "# Install required packages (if needed)\n",
        "# !pip install torch numpy matplotlib\n",
        "\n",
        "import torch\n",
        "import torch.nn as nn\n",
        "import torch.nn.functional as F\n",
        "import numpy as np\n",
        "import math\n",
        "import matplotlib.pyplot as plt\n",
        "from torch.utils.data import Dataset, DataLoader\n",
        "import transformers\n",
        "\n",
        "# Set random seed for reproducibility\n",
        "torch.manual_seed(42)\n",
        "np.random.seed(42)\n",
        "\n",
        "print(\"PyTorch version:\", torch.__version__)\n",
        "print(\"Device:\", \"cuda\" if torch.cuda.is_available() else \"cpu\")"
      ]
    },
    {
      "cell_type": "markdown",
      "source": [
        "🚀 Quick Start Example"
      ],
      "metadata": {
        "id": "MP-q5mV402zs"
      }
    },
    {
      "cell_type": "code",
      "source": [
        "import torch\n",
        "import torch.nn as nn\n",
        "\n",
        "# Minimal Transformer definition so the demo works\n",
        "class Transformer(nn.Module):\n",
        "    def __init__(self, src_vocab_size, tgt_vocab_size, d_model, num_heads, num_layers, d_ff, dropout):\n",
        "        super().__init__()\n",
        "        self.src_embed = nn.Embedding(src_vocab_size, d_model)\n",
        "        self.tgt_embed = nn.Embedding(tgt_vocab_size, d_model)\n",
        "        encoder_layer = nn.TransformerEncoderLayer(d_model, num_heads, d_ff, dropout)\n",
        "        decoder_layer = nn.TransformerDecoderLayer(d_model, num_heads, d_ff, dropout)\n",
        "        self.encoder = nn.TransformerEncoder(encoder_layer, num_layers)\n",
        "        self.decoder = nn.TransformerDecoder(decoder_layer, num_layers)\n",
        "        self.fc_out = nn.Linear(d_model, tgt_vocab_size)\n",
        "\n",
        "    def forward(self, src, tgt):\n",
        "        src = self.src_embed(src).transpose(0, 1)\n",
        "        tgt = self.tgt_embed(tgt).transpose(0, 1)\n",
        "        memory = self.encoder(src)\n",
        "        out = self.decoder(tgt, memory)\n",
        "        return self.fc_out(out).transpose(0, 1)\n",
        "\n",
        "\n",
        "print('=' * 50)\n",
        "print('🎉 TRANSFORMER FROM SCRATCH - QUICK DEMO')\n",
        "print('=' * 50)\n",
        "\n",
        "# Create a tiny model for demonstration\n",
        "small_model = Transformer(\n",
        "    src_vocab_size=100,\n",
        "    tgt_vocab_size=100,\n",
        "    d_model=128,\n",
        "    num_heads=4,\n",
        "    num_layers=2,\n",
        "    d_ff=512,\n",
        "    dropout=0.1\n",
        ")\n",
        "\n",
        "print('\\n✅ Model created successfully!')\n",
        "print(f'Parameters: {sum(p.numel() for p in small_model.parameters()):,}')\n",
        "\n",
        "# Test with dummy data\n",
        "batch = 2\n",
        "src_len = 5\n",
        "tgt_len = 4\n",
        "\n",
        "src = torch.randint(1, 100, (batch, src_len))\n",
        "tgt = torch.randint(1, 100, (batch, tgt_len))\n",
        "\n",
        "print(f'\\n📥 Input: {src.shape}')\n",
        "print(f'📤 Output target: {tgt.shape}')\n",
        "\n",
        "# Forward pass\n",
        "with torch.no_grad():\n",
        "    output = small_model(src, tgt)\n",
        "\n",
        "print(f'\\n🎯 Model output: {output.shape}')\n",
        "print(f'Expected: (batch={batch}, seq_len={tgt_len}, vocab=100)')\n",
        "\n",
        "print('\\n' + '=' * 50)\n",
        "print('✨ SUCCESS! Your Transformer works!')\n",
        "print('=' * 50)\n",
        "print('\\n💡 Next steps:')\n",
        "print('1. Prepare your dataset (tokenized text)')\n",
        "print('2. Create DataLoader')\n",
        "print('3. Run training loop')\n",
        "print('4. Generate predictions!')\n",
        "print('🔥 You now understand the architecture behind GPT, BERT, and Claude!')\n"
      ],
      "metadata": {
        "colab": {
          "base_uri": "https://localhost:8080/"
        },
        "id": "p7BUvbOc06Xm",
        "outputId": "f95569cd-7469-41c7-ac15-6994eae38cf2"
      },
      "execution_count": 8,
      "outputs": [
        {
          "output_type": "stream",
          "name": "stdout",
          "text": [
            "==================================================\n",
            "🎉 TRANSFORMER FROM SCRATCH - QUICK DEMO\n",
            "==================================================\n",
            "\n",
            "✅ Model created successfully!\n",
            "Parameters: 964,196\n",
            "\n",
            "📥 Input: torch.Size([2, 5])\n",
            "📤 Output target: torch.Size([2, 4])\n",
            "\n",
            "🎯 Model output: torch.Size([2, 4, 100])\n",
            "Expected: (batch=2, seq_len=4, vocab=100)\n",
            "\n",
            "==================================================\n",
            "✨ SUCCESS! Your Transformer works!\n",
            "==================================================\n",
            "\n",
            "💡 Next steps:\n",
            "1. Prepare your dataset (tokenized text)\n",
            "2. Create DataLoader\n",
            "3. Run training loop\n",
            "4. Generate predictions!\n",
            "🔥 You now understand the architecture behind GPT, BERT, and Claude!\n"
          ]
        }
      ]
    },
    {
      "cell_type": "markdown",
      "source": [
        "🔢 Positional Encoding\n"
      ],
      "metadata": {
        "id": "8WTc-azx1tFU"
      }
    },
    {
      "cell_type": "code",
      "source": [
        "class PositionalEncoding(nn.Module):\n",
        "    \"\"\"\n",
        "    Adds positional information to token embeddings\n",
        "    Formula: PE(pos, 2i) = sin(pos / 10000^(2i/d_model))\n",
        "             PE(pos, 2i+1) = cos(pos / 10000^(2i/d_model))\n",
        "    \"\"\"\n",
        "    def __init__(self, d_model, max_len=5000):\n",
        "        super().__init__()\n",
        "\n",
        "        # Create matrix of shape (max_len, d_model)\n",
        "        pe = torch.zeros(max_len, d_model)\n",
        "        position = torch.arange(0, max_len, dtype=torch.float).unsqueeze(1)\n",
        "\n",
        "        # Compute the positional encodings\n",
        "        div_term = torch.exp(torch.arange(0, d_model, 2).float() *\n",
        "                            (-math.log(10000.0) / d_model))\n",
        "\n",
        "        pe[:, 0::2] = torch.sin(position * div_term)  # Even indices\n",
        "        pe[:, 1::2] = torch.cos(position * div_term)  # Odd indices\n",
        "\n",
        "        # Add batch dimension and register as buffer\n",
        "        pe = pe.unsqueeze(0)\n",
        "        self.register_buffer('pe', pe)\n",
        "\n",
        "    def forward(self, x):\n",
        "        \"\"\"\n",
        "        Args:\n",
        "            x: Tensor of shape (batch_size, seq_len, d_model)\n",
        "        \"\"\"\n",
        "        return x + self.pe[:, :x.size(1), :]\n",
        "\n",
        "# Visualize positional encodings\n",
        "def visualize_positional_encoding():\n",
        "    plt.figure(figsize=(12, 6))\n",
        "    pe = PositionalEncoding(d_model=128, max_len=100)\n",
        "    pe_matrix = pe.pe[0].numpy()\n",
        "\n",
        "    plt.imshow(pe_matrix.T, cmap='RdBu', aspect='auto')\n",
        "    plt.colorbar()\n",
        "    plt.xlabel('Position')\n",
        "    plt.ylabel('Dimension')\n",
        "    plt.title('Positional Encoding Pattern')\n",
        "    plt.tight_layout()\n",
        "    plt.show()\n",
        "\n",
        "# Test it\n",
        "print(\"✓ Positional Encoding created!\")\n",
        "visualize_positional_encoding()  # Uncomment to see visualization"
      ],
      "metadata": {
        "colab": {
          "base_uri": "https://localhost:8080/",
          "height": 624
        },
        "id": "6GxuzoIt3C56",
        "outputId": "355b9771-0f3e-4a3f-c402-c3d3af89c154"
      },
      "execution_count": 10,
      "outputs": [
        {
          "output_type": "stream",
          "name": "stdout",
          "text": [
            "✓ Positional Encoding created!\n"
          ]
        },
        {
          "output_type": "display_data",
          "data": {
            "text/plain": [
              "<Figure size 1200x600 with 2 Axes>"
            ],
            "image/png": "[encoded data removed]"
          },
          "metadata": {}
        }
      ]
    },
    {
      "cell_type": "markdown",
      "source": [
        "🎯 Multi-Head Attention (The Heart!)"
      ],
      "metadata": {
        "id": "_U_eAyyC3J0I"
      }
    },
    {
      "cell_type": "code",
      "source": [
        "class MultiHeadAttention(nn.Module):\n",
        "    \"\"\"\n",
        "    The CORE of Transformer: allows model to focus on different parts\n",
        "    Formula: Attention(Q,K,V) = softmax(QK^T / sqrt(d_k))V\n",
        "    \"\"\"\n",
        "    def __init__(self, d_model, num_heads):\n",
        "        super().__init__()\n",
        "        assert d_model % num_heads == 0, \"d_model must be divisible by num_heads\"\n",
        "\n",
        "        self.d_model = d_model\n",
        "        self.num_heads = num_heads\n",
        "        self.d_k = d_model // num_heads  # Dimension per head\n",
        "\n",
        "        # Linear projections for Q, K, V\n",
        "        self.W_q = nn.Linear(d_model, d_model)\n",
        "        self.W_k = nn.Linear(d_model, d_model)\n",
        "        self.W_v = nn.Linear(d_model, d_model)\n",
        "\n",
        "        # Final linear layer\n",
        "        self.W_o = nn.Linear(d_model, d_model)\n",
        "\n",
        "    def scaled_dot_product_attention(self, Q, K, V, mask=None):\n",
        "        \"\"\"\n",
        "        The magic formula!\n",
        "        Q: Queries - \"what am I looking for?\"\n",
        "        K: Keys - \"what do I contain?\"\n",
        "        V: Values - \"what information do I have?\"\n",
        "        \"\"\"\n",
        "        # Calculate attention scores\n",
        "        scores = torch.matmul(Q, K.transpose(-2, -1)) / math.sqrt(self.d_k)\n",
        "\n",
        "        # Apply mask (for padding or future positions)\n",
        "        if mask is not None:\n",
        "            scores = scores.masked_fill(mask == 0, -1e9)\n",
        "\n",
        "        # Softmax to get attention weights\n",
        "        attention_weights = F.softmax(scores, dim=-1)\n",
        "\n",
        "        # Apply attention to values\n",
        "        output = torch.matmul(attention_weights, V)\n",
        "\n",
        "        return output, attention_weights\n",
        "\n",
        "    def split_heads(self, x):\n",
        "        \"\"\"Split into multiple attention heads\"\"\"\n",
        "        batch_size, seq_len, d_model = x.size()\n",
        "        return x.view(batch_size, seq_len, self.num_heads, self.d_k).transpose(1, 2)\n",
        "\n",
        "    def combine_heads(self, x):\n",
        "        \"\"\"Combine attention heads back\"\"\"\n",
        "        batch_size, _, seq_len, d_k = x.size()\n",
        "        return x.transpose(1, 2).contiguous().view(batch_size, seq_len, self.d_model)\n",
        "\n",
        "    def forward(self, query, key, value, mask=None):\n",
        "        batch_size = query.size(0)\n",
        "\n",
        "        # Linear projections\n",
        "        Q = self.split_heads(self.W_q(query))\n",
        "        K = self.split_heads(self.W_k(key))\n",
        "        V = self.split_heads(self.W_v(value))\n",
        "\n",
        "        # Apply attention\n",
        "        x, attention_weights = self.scaled_dot_product_attention(Q, K, V, mask)\n",
        "\n",
        "        # Combine heads and apply final linear\n",
        "        x = self.combine_heads(x)\n",
        "        x = self.W_o(x)\n",
        "\n",
        "        return x, attention_weights\n",
        "\n",
        "print(\"✓ Multi-Head Attention ready!\")"
      ],
      "metadata": {
        "colab": {
          "base_uri": "https://localhost:8080/"
        },
        "id": "QgnesQtS3O9B",
        "outputId": "8c00c92c-9814-4c95-84eb-8b77ce6860aa"
      },
      "execution_count": 11,
      "outputs": [
        {
          "output_type": "stream",
          "name": "stdout",
          "text": [
            "✓ Multi-Head Attention ready!\n"
          ]
        }
      ]
    },
    {
      "cell_type": "markdown",
      "source": [
        "🧠 Feed Forward Network"
      ],
      "metadata": {
        "id": "kIxS3g5w3Z0l"
      }
    },
    {
      "cell_type": "code",
      "source": [
        "class FeedForward(nn.Module):\n",
        "    \"\"\"\n",
        "    Simple 2-layer neural network applied to each position\n",
        "    Formula: FFN(x) = max(0, xW₁ + b₁)W₂ + b₂\n",
        "    \"\"\"\n",
        "    def __init__(self, d_model, d_ff, dropout=0.1):\n",
        "        super().__init__()\n",
        "        self.linear1 = nn.Linear(d_model, d_ff)\n",
        "        self.linear2 = nn.Linear(d_ff, d_model)\n",
        "        self.dropout = nn.Dropout(dropout)\n",
        "\n",
        "    def forward(self, x):\n",
        "        # Expand to higher dimension\n",
        "        x = F.relu(self.linear1(x))\n",
        "        x = self.dropout(x)\n",
        "        # Project back to d_model\n",
        "        x = self.linear2(x)\n",
        "        return x\n",
        "\n",
        "print(\"✓ Feed Forward Network created!\")"
      ],
      "metadata": {
        "colab": {
          "base_uri": "https://localhost:8080/"
        },
        "id": "SEmB8qXo3Zhs",
        "outputId": "5ba31540-f4f3-44f2-a1ba-55554126abea"
      },
      "execution_count": 12,
      "outputs": [
        {
          "output_type": "stream",
          "name": "stdout",
          "text": [
            "✓ Feed Forward Network created!\n"
          ]
        }
      ]
    },
    {
      "cell_type": "markdown",
      "source": [
        "🏗️ Encoder Layer"
      ],
      "metadata": {
        "id": "BY09yqS33k0B"
      }
    },
    {
      "cell_type": "code",
      "source": [
        "class EncoderLayer(nn.Module):\n",
        "    \"\"\"\n",
        "    One complete Encoder Layer:\n",
        "    1. Multi-Head Attention (with residual + norm)\n",
        "    2. Feed Forward (with residual + norm)\n",
        "    \"\"\"\n",
        "    def __init__(self, d_model, num_heads, d_ff, dropout=0.1):\n",
        "        super().__init__()\n",
        "\n",
        "        self.attention = MultiHeadAttention(d_model, num_heads)\n",
        "        self.feed_forward = FeedForward(d_model, d_ff, dropout)\n",
        "\n",
        "        # Layer normalization\n",
        "        self.norm1 = nn.LayerNorm(d_model)\n",
        "        self.norm2 = nn.LayerNorm(d_model)\n",
        "\n",
        "        self.dropout = nn.Dropout(dropout)\n",
        "\n",
        "    def forward(self, x, mask=None):\n",
        "        # Self-attention with residual connection\n",
        "        attn_output, _ = self.attention(x, x, x, mask)\n",
        "        x = self.norm1(x + self.dropout(attn_output))\n",
        "\n",
        "        # Feed forward with residual connection\n",
        "        ff_output = self.feed_forward(x)\n",
        "        x = self.norm2(x + self.dropout(ff_output))\n",
        "\n",
        "        return x\n",
        "\n",
        "class Encoder(nn.Module):\n",
        "    \"\"\"Stack of N encoder layers\"\"\"\n",
        "    def __init__(self, num_layers, d_model, num_heads, d_ff, dropout=0.1):\n",
        "        super().__init__()\n",
        "        self.layers = nn.ModuleList([\n",
        "            EncoderLayer(d_model, num_heads, d_ff, dropout)\n",
        "            for _ in range(num_layers)\n",
        "        ])\n",
        "\n",
        "    def forward(self, x, mask=None):\n",
        "        for layer in self.layers:\n",
        "            x = layer(x, mask)\n",
        "        return x\n",
        "\n",
        "print(\"✓ Encoder stack built!\")"
      ],
      "metadata": {
        "colab": {
          "base_uri": "https://localhost:8080/"
        },
        "id": "DafQ38xb3hKl",
        "outputId": "5abd747d-9074-4b2d-f78a-9bc72bee124d"
      },
      "execution_count": 13,
      "outputs": [
        {
          "output_type": "stream",
          "name": "stdout",
          "text": [
            "✓ Encoder stack built!\n"
          ]
        }
      ]
    },
    {
      "cell_type": "markdown",
      "source": [
        "🎭 Decoder Layer"
      ],
      "metadata": {
        "id": "tTYI3Y3y3spS"
      }
    },
    {
      "cell_type": "code",
      "source": [
        "class DecoderLayer(nn.Module):\n",
        "    \"\"\"\n",
        "    One complete Decoder Layer:\n",
        "    1. Masked Multi-Head Attention (self-attention on target)\n",
        "    2. Cross-Attention (attention to encoder output)\n",
        "    3. Feed Forward\n",
        "    \"\"\"\n",
        "    def __init__(self, d_model, num_heads, d_ff, dropout=0.1):\n",
        "        super().__init__()\n",
        "\n",
        "        self.self_attention = MultiHeadAttention(d_model, num_heads)\n",
        "        self.cross_attention = MultiHeadAttention(d_model, num_heads)\n",
        "        self.feed_forward = FeedForward(d_model, d_ff, dropout)\n",
        "\n",
        "        self.norm1 = nn.LayerNorm(d_model)\n",
        "        self.norm2 = nn.LayerNorm(d_model)\n",
        "        self.norm3 = nn.LayerNorm(d_model)\n",
        "\n",
        "        self.dropout = nn.Dropout(dropout)\n",
        "\n",
        "    def forward(self, x, encoder_output, src_mask=None, tgt_mask=None):\n",
        "        # Masked self-attention (can't look at future tokens!)\n",
        "        attn_output, _ = self.self_attention(x, x, x, tgt_mask)\n",
        "        x = self.norm1(x + self.dropout(attn_output))\n",
        "\n",
        "        # Cross-attention to encoder\n",
        "        attn_output, _ = self.cross_attention(x, encoder_output, encoder_output, src_mask)\n",
        "        x = self.norm2(x + self.dropout(attn_output))\n",
        "\n",
        "        # Feed forward\n",
        "        ff_output = self.feed_forward(x)\n",
        "        x = self.norm3(x + self.dropout(ff_output))\n",
        "\n",
        "        return x\n",
        "\n",
        "class Decoder(nn.Module):\n",
        "    \"\"\"Stack of N decoder layers\"\"\"\n",
        "    def __init__(self, num_layers, d_model, num_heads, d_ff, dropout=0.1):\n",
        "        super().__init__()\n",
        "        self.layers = nn.ModuleList([\n",
        "            DecoderLayer(d_model, num_heads, d_ff, dropout)\n",
        "            for _ in range(num_layers)\n",
        "        ])\n",
        "\n",
        "    def forward(self, x, encoder_output, src_mask=None, tgt_mask=None):\n",
        "        for layer in self.layers:\n",
        "            x = layer(x, encoder_output, src_mask, tgt_mask)\n",
        "        return x\n",
        "\n",
        "print(\"✓ Decoder stack assembled!\")"
      ],
      "metadata": {
        "colab": {
          "base_uri": "https://localhost:8080/"
        },
        "id": "MqMlYJWn3tJg",
        "outputId": "4cf51a28-6fe2-45fd-cc7b-efaad1af9f3e"
      },
      "execution_count": 14,
      "outputs": [
        {
          "output_type": "stream",
          "name": "stdout",
          "text": [
            "✓ Decoder stack assembled!\n"
          ]
        }
      ]
    },
    {
      "cell_type": "markdown",
      "source": [
        "🌟 Complete Transformer Model"
      ],
      "metadata": {
        "id": "RFgzzPgA33Bc"
      }
    },
    {
      "cell_type": "code",
      "source": [
        "class Transformer(nn.Module):\n",
        "    \"\"\"\n",
        "    The complete Transformer model!\n",
        "    Combines: Embeddings + Positional Encoding + Encoder + Decoder\n",
        "    \"\"\"\n",
        "    def __init__(self, src_vocab_size, tgt_vocab_size, d_model=512,\n",
        "                 num_heads=8, num_layers=6, d_ff=2048, dropout=0.1, max_len=5000):\n",
        "        super().__init__()\n",
        "\n",
        "        # Embeddings\n",
        "        self.encoder_embedding = nn.Embedding(src_vocab_size, d_model)\n",
        "        self.decoder_embedding = nn.Embedding(tgt_vocab_size, d_model)\n",
        "\n",
        "        # Positional encoding\n",
        "        self.pos_encoding = PositionalEncoding(d_model, max_len)\n",
        "\n",
        "        # Encoder and Decoder\n",
        "        self.encoder = Encoder(num_layers, d_model, num_heads, d_ff, dropout)\n",
        "        self.decoder = Decoder(num_layers, d_model, num_heads, d_ff, dropout)\n",
        "\n",
        "        # Final linear layer\n",
        "        self.fc_out = nn.Linear(d_model, tgt_vocab_size)\n",
        "\n",
        "        self.dropout = nn.Dropout(dropout)\n",
        "        self.d_model = d_model\n",
        "\n",
        "    def make_src_mask(self, src):\n",
        "        # Mask padding tokens (assuming 0 is padding)\n",
        "        src_mask = (src != 0).unsqueeze(1).unsqueeze(2)\n",
        "        return src_mask\n",
        "\n",
        "    def make_tgt_mask(self, tgt):\n",
        "        batch_size, tgt_len = tgt.shape\n",
        "\n",
        "        # Mask padding\n",
        "        tgt_mask = (tgt != 0).unsqueeze(1).unsqueeze(2)\n",
        "\n",
        "        # Create causal mask (lower triangular)\n",
        "        causal_mask = torch.tril(torch.ones((tgt_len, tgt_len))).bool()\n",
        "        causal_mask = causal_mask.unsqueeze(0).unsqueeze(0)\n",
        "\n",
        "        # Combine masks\n",
        "        tgt_mask = tgt_mask & causal_mask\n",
        "        return tgt_mask\n",
        "\n",
        "    def forward(self, src, tgt):\n",
        "        src_mask = self.make_src_mask(src)\n",
        "        tgt_mask = self.make_tgt_mask(tgt)\n",
        "\n",
        "        # Encode\n",
        "        src_embedded = self.dropout(self.pos_encoding(\n",
        "            self.encoder_embedding(src) * math.sqrt(self.d_model)))\n",
        "        encoder_output = self.encoder(src_embedded, src_mask)\n",
        "\n",
        "        # Decode\n",
        "        tgt_embedded = self.dropout(self.pos_encoding(\n",
        "            self.decoder_embedding(tgt) * math.sqrt(self.d_model)))\n",
        "        decoder_output = self.decoder(tgt_embedded, encoder_output, src_mask, tgt_mask)\n",
        "\n",
        "        # Final projection\n",
        "        output = self.fc_out(decoder_output)\n",
        "\n",
        "        return output\n",
        "\n",
        "print(\"✓ Complete Transformer assembled!\")\n",
        "print(\"🎉 You've built a Transformer from scratch!\")"
      ],
      "metadata": {
        "colab": {
          "base_uri": "https://localhost:8080/"
        },
        "id": "Wz16QsDE32xD",
        "outputId": "3a4a05b4-5793-4b9a-c719-44297e895d3e"
      },
      "execution_count": 15,
      "outputs": [
        {
          "output_type": "stream",
          "name": "stdout",
          "text": [
            "✓ Complete Transformer assembled!\n",
            "🎉 You've built a Transformer from scratch!\n"
          ]
        }
      ]
    },
    {
      "cell_type": "markdown",
      "source": [
        "🧪 Testing the Model"
      ],
      "metadata": {
        "id": "tbKDiXiA3-6U"
      }
    },
    {
      "cell_type": "code",
      "source": [
        "# Create a small model for testing\n",
        "def test_transformer():\n",
        "    # Hyperparameters\n",
        "    src_vocab_size = 1000\n",
        "    tgt_vocab_size = 1000\n",
        "    d_model = 512\n",
        "    num_heads = 8\n",
        "    num_layers = 6\n",
        "    d_ff = 2048\n",
        "    dropout = 0.1\n",
        "\n",
        "    # Create model\n",
        "    model = Transformer(\n",
        "        src_vocab_size=src_vocab_size,\n",
        "        tgt_vocab_size=tgt_vocab_size,\n",
        "        d_model=d_model,\n",
        "        num_heads=num_heads,\n",
        "        num_layers=num_layers,\n",
        "        d_ff=d_ff,\n",
        "        dropout=dropout\n",
        "    )\n",
        "\n",
        "    # Count parameters\n",
        "    total_params = sum(p.numel() for p in model.parameters())\n",
        "    print(f\"Total parameters: {total_params:,}\")\n",
        "\n",
        "    # Test forward pass\n",
        "    batch_size = 2\n",
        "    src_seq_len = 10\n",
        "    tgt_seq_len = 8\n",
        "\n",
        "    # Random input (in real scenario, these are token indices)\n",
        "    src = torch.randint(1, src_vocab_size, (batch_size, src_seq_len))\n",
        "    tgt = torch.randint(1, tgt_vocab_size, (batch_size, tgt_seq_len))\n",
        "\n",
        "    # Forward pass\n",
        "    output = model(src, tgt)\n",
        "    print(f\"Input shape: {src.shape}\")\n",
        "    print(f\"Target shape: {tgt.shape}\")\n",
        "    print(f\"Output shape: {output.shape}\")\n",
        "    print(f\"Expected output shape: (batch_size, tgt_seq_len, tgt_vocab_size)\")\n",
        "\n",
        "    print(\"\\n✅ Forward pass successful!\")\n",
        "    print(\"🎯 Your Transformer is ready for training!\")\n",
        "\n",
        "    return model\n",
        "\n",
        "# Run the test\n",
        "model = test_transformer()\n"
      ],
      "metadata": {
        "colab": {
          "base_uri": "https://localhost:8080/"
        },
        "id": "cz2t6nHE3_ow",
        "outputId": "79c868fd-374a-46e6-88ad-d81b2e613271"
      },
      "execution_count": 16,
      "outputs": [
        {
          "output_type": "stream",
          "name": "stdout",
          "text": [
            "Total parameters: 45,675,496\n",
            "Input shape: torch.Size([2, 10])\n",
            "Target shape: torch.Size([2, 8])\n",
            "Output shape: torch.Size([2, 8, 1000])\n",
            "Expected output shape: (batch_size, tgt_seq_len, tgt_vocab_size)\n",
            "\n",
            "✅ Forward pass successful!\n",
            "🎯 Your Transformer is ready for training!\n"
          ]
        }
      ]
    },
    {
      "cell_type": "markdown",
      "source": [
        "📚 Training Loop Template"
      ],
      "metadata": {
        "id": "fpsEZgFN4Kqt"
      }
    },
    {
      "cell_type": "code",
      "source": [
        "import torch\n",
        "import torch.nn as nn\n",
        "from torch.utils.data import DataLoader, TensorDataset\n",
        "\n",
        "# ====== SIMPLE REAL DATA EXAMPLE ======\n",
        "# Let's create a small dataset of random integer sequences to simulate training data\n",
        "# (like toy tokenized sentences)\n",
        "vocab_size = 100\n",
        "num_samples = 200\n",
        "seq_len_src = 6\n",
        "seq_len_tgt = 7\n",
        "\n",
        "src_data = torch.randint(1, vocab_size, (num_samples, seq_len_src))\n",
        "tgt_data = torch.randint(1, vocab_size, (num_samples, seq_len_tgt))\n",
        "\n",
        "train_dataset = TensorDataset(src_data, tgt_data)\n",
        "train_loader = DataLoader(train_dataset, batch_size=8, shuffle=True)\n",
        "\n",
        "# ====== TRAINING FUNCTION (YOUR ORIGINAL CODE) ======\n",
        "def train_transformer(model, train_loader, epochs=10, lr=0.0001):\n",
        "    \"\"\"\n",
        "    Complete training loop for the Transformer\n",
        "    \"\"\"\n",
        "    device = torch.device('cuda' if torch.cuda.is_available() else 'cpu')\n",
        "    model = model.to(device)\n",
        "\n",
        "    # Loss and optimizer\n",
        "    criterion = nn.CrossEntropyLoss(ignore_index=0)  # Ignore padding\n",
        "    optimizer = torch.optim.Adam(model.parameters(), lr=lr, betas=(0.9, 0.98), eps=1e-9)\n",
        "\n",
        "    # Learning rate scheduler (from original paper)\n",
        "    def lr_lambda(step):\n",
        "        d_model = model.d_model\n",
        "        step = max(step, 1)\n",
        "        return (d_model ** -0.5) * min(step ** -0.5, step * (4000 ** -1.5))\n",
        "\n",
        "    scheduler = torch.optim.lr_scheduler.LambdaLR(optimizer, lr_lambda)\n",
        "\n",
        "    model.train()\n",
        "\n",
        "    for epoch in range(epochs):\n",
        "        total_loss = 0\n",
        "\n",
        "        for batch_idx, (src, tgt) in enumerate(train_loader):\n",
        "            src, tgt = src.to(device), tgt.to(device)\n",
        "\n",
        "            # Prepare target input and output\n",
        "            tgt_input = tgt[:, :-1]  # All except last token\n",
        "            tgt_output = tgt[:, 1:]  # All except first token\n",
        "\n",
        "            # Forward pass\n",
        "            output = model(src, tgt_input)\n",
        "\n",
        "            # Calculate loss\n",
        "            output = output.reshape(-1, output.shape[-1])\n",
        "            tgt_output = tgt_output.reshape(-1)\n",
        "\n",
        "            loss = criterion(output, tgt_output)\n",
        "\n",
        "            # Backward pass\n",
        "            optimizer.zero_grad()\n",
        "            loss.backward()\n",
        "\n",
        "            # Gradient clipping\n",
        "            torch.nn.utils.clip_grad_norm_(model.parameters(), max_norm=1.0)\n",
        "\n",
        "            optimizer.step()\n",
        "            scheduler.step()\n",
        "\n",
        "            total_loss += loss.item()\n",
        "\n",
        "            if batch_idx % 10 == 0:\n",
        "                print(f\"Epoch {epoch+1}/{epochs}, Batch {batch_idx}, Loss: {loss.item():.4f}\")\n",
        "\n",
        "        avg_loss = total_loss / len(train_loader)\n",
        "        print(f\"Epoch {epoch+1} completed. Average Loss: {avg_loss:.4f}\\n\")\n",
        "\n",
        "    return model\n",
        "\n",
        "print(\"✓ Training function ready!\")\n",
        "print(\"📝 Note: You'll need actual data to train. This is the template.\")\n"
      ],
      "metadata": {
        "colab": {
          "base_uri": "https://localhost:8080/"
        },
        "id": "aM3c-jQu4KYZ",
        "outputId": "f6c111ac-2836-490c-aaa7-2feb6784ecc5"
      },
      "execution_count": 21,
      "outputs": [
        {
          "output_type": "stream",
          "name": "stdout",
          "text": [
            "✓ Training function ready!\n",
            "📝 Note: You'll need actual data to train. This is the template.\n"
          ]
        }
      ]
    },
    {
      "cell_type": "markdown",
      "source": [
        "🎯 Inference (Generation)\n"
      ],
      "metadata": {
        "id": "zycAPk6X4V--"
      }
    },
    {
      "cell_type": "code",
      "source": [
        "def generate_translation(model, src, src_vocab, tgt_vocab, max_len=50):\n",
        "    \"\"\"\n",
        "    Generate translation using the trained model (greedy decoding)\n",
        "    \"\"\"\n",
        "    model.eval()\n",
        "    device = next(model.parameters()).device\n",
        "    src = src.to(device)\n",
        "\n",
        "    # Encode source\n",
        "    src_mask = model.make_src_mask(src)\n",
        "    src_embedded = model.pos_encoding(\n",
        "        model.encoder_embedding(src) * math.sqrt(model.d_model))\n",
        "    encoder_output = model.encoder(src_embedded, src_mask)\n",
        "\n",
        "    # Start with <sos> token\n",
        "    tgt_indices = [tgt_vocab['<sos>']]\n",
        "\n",
        "    for _ in range(max_len):\n",
        "        tgt = torch.LongTensor(tgt_indices).unsqueeze(0).to(device)\n",
        "        tgt_mask = model.make_tgt_mask(tgt)\n",
        "\n",
        "        # Decode\n",
        "        tgt_embedded = model.pos_encoding(\n",
        "            model.decoder_embedding(tgt) * math.sqrt(model.d_model))\n",
        "        decoder_output = model.decoder(tgt_embedded, encoder_output, src_mask, tgt_mask)\n",
        "\n",
        "        # Get prediction for last token\n",
        "        output = model.fc_out(decoder_output[:, -1, :])\n",
        "        next_token = output.argmax(dim=-1).item()\n",
        "\n",
        "        tgt_indices.append(next_token)\n",
        "\n",
        "        # Stop if we predict <eos>\n",
        "        if next_token == tgt_vocab['<eos>']:\n",
        "            break\n",
        "\n",
        "    return tgt_indices\n",
        "\n",
        "# Beam search (better quality)\n",
        "def beam_search(model, src, beam_width=5, max_len=50):\n",
        "    \"\"\"\n",
        "    Beam search for better generation quality\n",
        "    Keeps top-k hypotheses at each step\n",
        "    \"\"\"\n",
        "    model.eval()\n",
        "    device = next(model.parameters()).device\n",
        "    src = src.to(device)\n",
        "\n",
        "    # Encode\n",
        "    src_mask = model.make_src_mask(src)\n",
        "    src_embedded = model.pos_encoding(\n",
        "        model.encoder_embedding(src) * math.sqrt(model.d_model))\n",
        "    encoder_output = model.encoder(src_embedded, src_mask)\n",
        "\n",
        "    # Initialize beam with <sos> token\n",
        "    # Each beam: (sequence, score)\n",
        "    beams = [([1], 0.0)]  # Assuming 1 is <sos>\n",
        "\n",
        "    for _ in range(max_len):\n",
        "        candidates = []\n",
        "\n",
        "        for seq, score in beams:\n",
        "            if seq[-1] == 2:  # If <eos>, keep as is\n",
        "                candidates.append((seq, score))\n",
        "                continue\n",
        "\n",
        "            tgt = torch.LongTensor(seq).unsqueeze(0).to(device)\n",
        "            tgt_mask = model.make_tgt_mask(tgt)\n",
        "\n",
        "            tgt_embedded = model.pos_encoding(\n",
        "                model.decoder_embedding(tgt) * math.sqrt(model.d_model))\n",
        "            decoder_output = model.decoder(tgt_embedded, encoder_output, src_mask, tgt_mask)\n",
        "\n",
        "            output = model.fc_out(decoder_output[:, -1, :])\n",
        "            log_probs = F.log_softmax(output, dim=-1)\n",
        "\n",
        "            # Get top beam_width tokens\n",
        "            top_log_probs, top_indices = log_probs.topk(beam_width)\n",
        "\n",
        "            for log_prob, idx in zip(top_log_probs[0], top_indices[0]):\n",
        "                new_seq = seq + [idx.item()]\n",
        "                new_score = score + log_prob.item()\n",
        "                candidates.append((new_seq, new_score))\n",
        "\n",
        "        # Keep top beam_width candidates\n",
        "        beams = sorted(candidates, key=lambda x: x[1], reverse=True)[:beam_width]\n",
        "\n",
        "        # Stop if all beams end with <eos>\n",
        "        if all(seq[-1] == 2 for seq, _ in beams):\n",
        "            break\n",
        "\n",
        "    # Return best sequence\n",
        "    return beams[0][0]\n",
        "\n",
        "print(\"✓ Generation functions ready!\")\n",
        "print(\"🎨 Greedy decoding is fast, beam search is better quality\")\n"
      ],
      "metadata": {
        "colab": {
          "base_uri": "https://localhost:8080/"
        },
        "id": "6knlrhkg4Zd0",
        "outputId": "06800033-83e7-4e78-86ee-e963a0fdd1e3"
      },
      "execution_count": 22,
      "outputs": [
        {
          "output_type": "stream",
          "name": "stdout",
          "text": [
            "✓ Generation functions ready!\n",
            "🎨 Greedy decoding is fast, beam search is better quality\n"
          ]
        }
      ]
    },
    {
      "cell_type": "markdown",
      "source": [
        "To Understand Transformers Please visit this site : [Sereena-Transformer](https://sereena-transformer.bolt.host/)"
      ],
      "metadata": {
        "id": "Qp_ixsL35fZS"
      }
    }
  ]
}