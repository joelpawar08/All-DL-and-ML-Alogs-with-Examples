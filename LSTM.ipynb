{
  "nbformat": 4,
  "nbformat_minor": 0,
  "metadata": {
    "colab": {
      "provenance": [],
      "gpuType": "T4",
      "authorship_tag": "ABX9TyOTnx0TayjEsD8yJQdRGTyc",
      "include_colab_link": true
    },
    "kernelspec": {
      "name": "python3",
      "display_name": "Python 3"
    },
    "language_info": {
      "name": "python"
    },
    "accelerator": "GPU"
  },
  "cells": [
    {
      "cell_type": "markdown",
      "metadata": {
        "id": "view-in-github",
        "colab_type": "text"
      },
      "source": [
        "<a href=\"https://colab.research.google.com/github/joelpawar08/All-DL-and-ML-Alogs-with-Examples/blob/master/LSTM.ipynb\" target=\"_parent\"><img src=\"https://colab.research.google.com/assets/colab-badge.svg\" alt=\"Open In Colab\"/></a>"
      ]
    },
    {
      "cell_type": "markdown",
      "source": [
        "###Import Libraries\n"
      ],
      "metadata": {
        "id": "RJCjZEX-djiv"
      }
    },
    {
      "cell_type": "code",
      "execution_count": 1,
      "metadata": {
        "colab": {
          "base_uri": "https://localhost:8080/"
        },
        "id": "DsN8ID_XcvFJ",
        "outputId": "f3ad812b-15a3-4914-ab75-6c8d1b095a42"
      },
      "outputs": [
        {
          "output_type": "stream",
          "name": "stdout",
          "text": [
            "TensorFlow version: 2.19.0\n"
          ]
        }
      ],
      "source": [
        "import numpy as np\n",
        "import pandas as pd\n",
        "import matplotlib.pyplot as plt\n",
        "import tensorflow as tf\n",
        "from tensorflow import keras\n",
        "from tensorflow.keras.models import Sequential\n",
        "from tensorflow.keras.layers import LSTM, Dense, Embedding, Dropout\n",
        "from tensorflow.keras.preprocessing.text import Tokenizer\n",
        "from tensorflow.keras.preprocessing.sequence import pad_sequences\n",
        "from tensorflow.keras.utils import to_categorical\n",
        "\n",
        "print(f\"TensorFlow version: {tf.__version__}\")\n"
      ]
    },
    {
      "cell_type": "markdown",
      "source": [
        "###Prepare Sample Text Data Using a simple story for demonstration\n"
      ],
      "metadata": {
        "id": "s1RrTqw6dzV0"
      }
    },
    {
      "cell_type": "code",
      "source": [
        "text = \"\"\"\n",
        "The quick brown fox jumps over the lazy dog.\n",
        "The dog was sleeping under a tree.\n",
        "A tree provides shade on a sunny day.\n",
        "The sunny day was perfect for a walk.\n",
        "The walk in the park was refreshing.\n",
        "The park had many trees and flowers.\n",
        "Flowers bloom in the spring season.\n",
        "The spring season brings new life.\n",
        "Life is full of surprises and joy.\n",
        "Joy comes from simple moments.\n",
        "\"\"\"\n",
        "\n",
        "# Clean and prepare text\n",
        "text = text.lower().strip()\n",
        "print(\"Sample text:\")\n",
        "print(text[:200] + \"...\")\n",
        "print(f\"\\nTotal characters: {len(text)}\")\n"
      ],
      "metadata": {
        "colab": {
          "base_uri": "https://localhost:8080/"
        },
        "id": "6qw8WAbsd9PM",
        "outputId": "2f7b9b84-320d-45bb-d461-73cac5adefde"
      },
      "execution_count": 2,
      "outputs": [
        {
          "output_type": "stream",
          "name": "stdout",
          "text": [
            "Sample text:\n",
            "the quick brown fox jumps over the lazy dog.\n",
            "the dog was sleeping under a tree.\n",
            "a tree provides shade on a sunny day.\n",
            "the sunny day was perfect for a walk.\n",
            "the walk in the park was refreshing.\n",
            "the par...\n",
            "\n",
            "Total characters: 366\n"
          ]
        }
      ]
    },
    {
      "cell_type": "markdown",
      "source": [
        "###Tokenization Convert words to numbers"
      ],
      "metadata": {
        "id": "oIgOdIaleCNy"
      }
    },
    {
      "cell_type": "code",
      "source": [
        "tokenizer = Tokenizer()\n",
        "tokenizer.fit_on_texts([text])\n",
        "\n",
        "# Get total unique words\n",
        "total_words = len(tokenizer.word_index) + 1\n",
        "print(f\"Total unique words: {total_words}\")\n",
        "print(f\"\\nWord Index (first 10):\")\n",
        "print(dict(list(tokenizer.word_index.items())[:10]))\n",
        "\n",
        "# Convert text to sequences of integers\n",
        "sequences = tokenizer.texts_to_sequences([text])[0]\n",
        "print(f\"\\nFirst 20 tokens: {sequences[:20]}\")\n"
      ],
      "metadata": {
        "colab": {
          "base_uri": "https://localhost:8080/"
        },
        "id": "D8uVT4PPeOjY",
        "outputId": "894231af-4d11-4bb7-c845-31c63e9333b9"
      },
      "execution_count": 3,
      "outputs": [
        {
          "output_type": "stream",
          "name": "stdout",
          "text": [
            "Total unique words: 45\n",
            "\n",
            "Word Index (first 10):\n",
            "{'the': 1, 'a': 2, 'was': 3, 'dog': 4, 'tree': 5, 'sunny': 6, 'day': 7, 'walk': 8, 'in': 9, 'park': 10}\n",
            "\n",
            "First 20 tokens: [1, 17, 18, 19, 20, 21, 1, 22, 4, 1, 4, 3, 23, 24, 2, 5, 2, 5, 25, 26]\n"
          ]
        }
      ]
    },
    {
      "cell_type": "markdown",
      "source": [
        "###Create Input Sequences Use N words to predict the next word\n"
      ],
      "metadata": {
        "id": "TRp371aqeU9W"
      }
    },
    {
      "cell_type": "code",
      "source": [
        "def create_sequences(sequence, seq_length):\n",
        "    \"\"\"Create sequences of length seq_length\"\"\"\n",
        "    X, y = [], []\n",
        "    for i in range(seq_length, len(sequence)):\n",
        "        X.append(sequence[i-seq_length:i])\n",
        "        y.append(sequence[i])\n",
        "    return np.array(X), np.array(y)\n",
        "\n",
        "# Use previous 3 words to predict next word\n",
        "SEQ_LENGTH = 3\n",
        "\n",
        "X, y = create_sequences(sequences, SEQ_LENGTH)\n",
        "\n",
        "# Convert y to categorical (one-hot encoding)\n",
        "y = to_categorical(y, num_classes=total_words)\n",
        "\n",
        "print(f\"X shape: {X.shape}\")  # (samples, sequence_length)\n",
        "print(f\"y shape: {y.shape}\")  # (samples, total_words)\n",
        "print(f\"\\nExample sequence:\")\n",
        "print(f\"Input: {X[0]} -> Output word index: {np.argmax(y[0])}\")\n"
      ],
      "metadata": {
        "colab": {
          "base_uri": "https://localhost:8080/"
        },
        "id": "PPvgoLkGedgV",
        "outputId": "8529218b-c2eb-4e5f-9b3f-667b22f1d3fa"
      },
      "execution_count": 4,
      "outputs": [
        {
          "output_type": "stream",
          "name": "stdout",
          "text": [
            "X shape: (67, 3)\n",
            "y shape: (67, 45)\n",
            "\n",
            "Example sequence:\n",
            "Input: [ 1 17 18] -> Output word index: 19\n"
          ]
        }
      ]
    },
    {
      "cell_type": "markdown",
      "source": [
        "###Build LSTM Model for Word Prediction"
      ],
      "metadata": {
        "id": "Ye_-4yzKehw9"
      }
    },
    {
      "cell_type": "code",
      "source": [
        "model = Sequential([\n",
        "    # Embedding layer: converts word indices to dense vectors\n",
        "    Embedding(input_dim=total_words, output_dim=50),\n",
        "\n",
        "    # LSTM layers\n",
        "    LSTM(100, return_sequences=True),\n",
        "    Dropout(0.2),\n",
        "\n",
        "    LSTM(100),\n",
        "    Dropout(0.2),\n",
        "\n",
        "    # Dense layers\n",
        "    Dense(50, activation='relu'),\n",
        "\n",
        "    # Output layer: probability distribution over all words\n",
        "    Dense(total_words, activation='softmax')\n",
        "])\n",
        "\n",
        "model.compile(\n",
        "    optimizer='adam',\n",
        "    loss='categorical_crossentropy',\n",
        "    metrics=['accuracy']\n",
        ")\n",
        "\n",
        "# Build the model explicitly to see parameters before training\n",
        "model.build(input_shape=(None, SEQ_LENGTH))\n",
        "\n",
        "model.summary()"
      ],
      "metadata": {
        "colab": {
          "base_uri": "https://localhost:8080/",
          "height": 353
        },
        "id": "PRkKdsGSehcF",
        "outputId": "ddacc7e7-9c9c-415c-82e2-ba21f2f37487"
      },
      "execution_count": 6,
      "outputs": [
        {
          "output_type": "display_data",
          "data": {
            "text/plain": [
              "\u001b[1mModel: \"sequential_1\"\u001b[0m\n"
            ],
            "text/html": [
              "<pre style=\"white-space:pre;overflow-x:auto;line-height:normal;font-family:Menlo,'DejaVu Sans Mono',consolas,'Courier New',monospace\"><span style=\"font-weight: bold\">Model: \"sequential_1\"</span>\n",
              "</pre>\n"
            ]
          },
          "metadata": {}
        },
        {
          "output_type": "display_data",
          "data": {
            "text/plain": [
              "┏━━━━━━━━━━━━━━━━━━━━━━━━━━━━━━━━━┳━━━━━━━━━━━━━━━━━━━━━━━━┳━━━━━━━━━━━━━━━┓\n",
              "┃\u001b[1m \u001b[0m\u001b[1mLayer (type)                   \u001b[0m\u001b[1m \u001b[0m┃\u001b[1m \u001b[0m\u001b[1mOutput Shape          \u001b[0m\u001b[1m \u001b[0m┃\u001b[1m \u001b[0m\u001b[1m      Param #\u001b[0m\u001b[1m \u001b[0m┃\n",
              "┡━━━━━━━━━━━━━━━━━━━━━━━━━━━━━━━━━╇━━━━━━━━━━━━━━━━━━━━━━━━╇━━━━━━━━━━━━━━━┩\n",
              "│ embedding_1 (\u001b[38;5;33mEmbedding\u001b[0m)         │ (\u001b[38;5;45mNone\u001b[0m, \u001b[38;5;34m3\u001b[0m, \u001b[38;5;34m50\u001b[0m)          │         \u001b[38;5;34m2,250\u001b[0m │\n",
              "├─────────────────────────────────┼────────────────────────┼───────────────┤\n",
              "│ lstm_2 (\u001b[38;5;33mLSTM\u001b[0m)                   │ (\u001b[38;5;45mNone\u001b[0m, \u001b[38;5;34m3\u001b[0m, \u001b[38;5;34m100\u001b[0m)         │        \u001b[38;5;34m60,400\u001b[0m │\n",
              "├─────────────────────────────────┼────────────────────────┼───────────────┤\n",
              "│ dropout_2 (\u001b[38;5;33mDropout\u001b[0m)             │ (\u001b[38;5;45mNone\u001b[0m, \u001b[38;5;34m3\u001b[0m, \u001b[38;5;34m100\u001b[0m)         │             \u001b[38;5;34m0\u001b[0m │\n",
              "├─────────────────────────────────┼────────────────────────┼───────────────┤\n",
              "│ lstm_3 (\u001b[38;5;33mLSTM\u001b[0m)                   │ (\u001b[38;5;45mNone\u001b[0m, \u001b[38;5;34m100\u001b[0m)            │        \u001b[38;5;34m80,400\u001b[0m │\n",
              "├─────────────────────────────────┼────────────────────────┼───────────────┤\n",
              "│ dropout_3 (\u001b[38;5;33mDropout\u001b[0m)             │ (\u001b[38;5;45mNone\u001b[0m, \u001b[38;5;34m100\u001b[0m)            │             \u001b[38;5;34m0\u001b[0m │\n",
              "├─────────────────────────────────┼────────────────────────┼───────────────┤\n",
              "│ dense_2 (\u001b[38;5;33mDense\u001b[0m)                 │ (\u001b[38;5;45mNone\u001b[0m, \u001b[38;5;34m50\u001b[0m)             │         \u001b[38;5;34m5,050\u001b[0m │\n",
              "├─────────────────────────────────┼────────────────────────┼───────────────┤\n",
              "│ dense_3 (\u001b[38;5;33mDense\u001b[0m)                 │ (\u001b[38;5;45mNone\u001b[0m, \u001b[38;5;34m45\u001b[0m)             │         \u001b[38;5;34m2,295\u001b[0m │\n",
              "└─────────────────────────────────┴────────────────────────┴───────────────┘\n"
            ],
            "text/html": [
              "<pre style=\"white-space:pre;overflow-x:auto;line-height:normal;font-family:Menlo,'DejaVu Sans Mono',consolas,'Courier New',monospace\">┏━━━━━━━━━━━━━━━━━━━━━━━━━━━━━━━━━┳━━━━━━━━━━━━━━━━━━━━━━━━┳━━━━━━━━━━━━━━━┓\n",
              "┃<span style=\"font-weight: bold\"> Layer (type)                    </span>┃<span style=\"font-weight: bold\"> Output Shape           </span>┃<span style=\"font-weight: bold\">       Param # </span>┃\n",
              "┡━━━━━━━━━━━━━━━━━━━━━━━━━━━━━━━━━╇━━━━━━━━━━━━━━━━━━━━━━━━╇━━━━━━━━━━━━━━━┩\n",
              "│ embedding_1 (<span style=\"color: #0087ff; text-decoration-color: #0087ff\">Embedding</span>)         │ (<span style=\"color: #00d7ff; text-decoration-color: #00d7ff\">None</span>, <span style=\"color: #00af00; text-decoration-color: #00af00\">3</span>, <span style=\"color: #00af00; text-decoration-color: #00af00\">50</span>)          │         <span style=\"color: #00af00; text-decoration-color: #00af00\">2,250</span> │\n",
              "├─────────────────────────────────┼────────────────────────┼───────────────┤\n",
              "│ lstm_2 (<span style=\"color: #0087ff; text-decoration-color: #0087ff\">LSTM</span>)                   │ (<span style=\"color: #00d7ff; text-decoration-color: #00d7ff\">None</span>, <span style=\"color: #00af00; text-decoration-color: #00af00\">3</span>, <span style=\"color: #00af00; text-decoration-color: #00af00\">100</span>)         │        <span style=\"color: #00af00; text-decoration-color: #00af00\">60,400</span> │\n",
              "├─────────────────────────────────┼────────────────────────┼───────────────┤\n",
              "│ dropout_2 (<span style=\"color: #0087ff; text-decoration-color: #0087ff\">Dropout</span>)             │ (<span style=\"color: #00d7ff; text-decoration-color: #00d7ff\">None</span>, <span style=\"color: #00af00; text-decoration-color: #00af00\">3</span>, <span style=\"color: #00af00; text-decoration-color: #00af00\">100</span>)         │             <span style=\"color: #00af00; text-decoration-color: #00af00\">0</span> │\n",
              "├─────────────────────────────────┼────────────────────────┼───────────────┤\n",
              "│ lstm_3 (<span style=\"color: #0087ff; text-decoration-color: #0087ff\">LSTM</span>)                   │ (<span style=\"color: #00d7ff; text-decoration-color: #00d7ff\">None</span>, <span style=\"color: #00af00; text-decoration-color: #00af00\">100</span>)            │        <span style=\"color: #00af00; text-decoration-color: #00af00\">80,400</span> │\n",
              "├─────────────────────────────────┼────────────────────────┼───────────────┤\n",
              "│ dropout_3 (<span style=\"color: #0087ff; text-decoration-color: #0087ff\">Dropout</span>)             │ (<span style=\"color: #00d7ff; text-decoration-color: #00d7ff\">None</span>, <span style=\"color: #00af00; text-decoration-color: #00af00\">100</span>)            │             <span style=\"color: #00af00; text-decoration-color: #00af00\">0</span> │\n",
              "├─────────────────────────────────┼────────────────────────┼───────────────┤\n",
              "│ dense_2 (<span style=\"color: #0087ff; text-decoration-color: #0087ff\">Dense</span>)                 │ (<span style=\"color: #00d7ff; text-decoration-color: #00d7ff\">None</span>, <span style=\"color: #00af00; text-decoration-color: #00af00\">50</span>)             │         <span style=\"color: #00af00; text-decoration-color: #00af00\">5,050</span> │\n",
              "├─────────────────────────────────┼────────────────────────┼───────────────┤\n",
              "│ dense_3 (<span style=\"color: #0087ff; text-decoration-color: #0087ff\">Dense</span>)                 │ (<span style=\"color: #00d7ff; text-decoration-color: #00d7ff\">None</span>, <span style=\"color: #00af00; text-decoration-color: #00af00\">45</span>)             │         <span style=\"color: #00af00; text-decoration-color: #00af00\">2,295</span> │\n",
              "└─────────────────────────────────┴────────────────────────┴───────────────┘\n",
              "</pre>\n"
            ]
          },
          "metadata": {}
        },
        {
          "output_type": "display_data",
          "data": {
            "text/plain": [
              "\u001b[1m Total params: \u001b[0m\u001b[38;5;34m150,395\u001b[0m (587.48 KB)\n"
            ],
            "text/html": [
              "<pre style=\"white-space:pre;overflow-x:auto;line-height:normal;font-family:Menlo,'DejaVu Sans Mono',consolas,'Courier New',monospace\"><span style=\"font-weight: bold\"> Total params: </span><span style=\"color: #00af00; text-decoration-color: #00af00\">150,395</span> (587.48 KB)\n",
              "</pre>\n"
            ]
          },
          "metadata": {}
        },
        {
          "output_type": "display_data",
          "data": {
            "text/plain": [
              "\u001b[1m Trainable params: \u001b[0m\u001b[38;5;34m150,395\u001b[0m (587.48 KB)\n"
            ],
            "text/html": [
              "<pre style=\"white-space:pre;overflow-x:auto;line-height:normal;font-family:Menlo,'DejaVu Sans Mono',consolas,'Courier New',monospace\"><span style=\"font-weight: bold\"> Trainable params: </span><span style=\"color: #00af00; text-decoration-color: #00af00\">150,395</span> (587.48 KB)\n",
              "</pre>\n"
            ]
          },
          "metadata": {}
        },
        {
          "output_type": "display_data",
          "data": {
            "text/plain": [
              "\u001b[1m Non-trainable params: \u001b[0m\u001b[38;5;34m0\u001b[0m (0.00 B)\n"
            ],
            "text/html": [
              "<pre style=\"white-space:pre;overflow-x:auto;line-height:normal;font-family:Menlo,'DejaVu Sans Mono',consolas,'Courier New',monospace\"><span style=\"font-weight: bold\"> Non-trainable params: </span><span style=\"color: #00af00; text-decoration-color: #00af00\">0</span> (0.00 B)\n",
              "</pre>\n"
            ]
          },
          "metadata": {}
        }
      ]
    },
    {
      "cell_type": "markdown",
      "source": [
        "###Train the Model"
      ],
      "metadata": {
        "id": "RWGg6Rp4eoTb"
      }
    },
    {
      "cell_type": "code",
      "source": [
        "history = model.fit(\n",
        "    X, y,\n",
        "    epochs=100,\n",
        "    batch_size=32,\n",
        "    validation_split=0.2,\n",
        "    verbose=1\n",
        ")"
      ],
      "metadata": {
        "colab": {
          "base_uri": "https://localhost:8080/"
        },
        "id": "GFG3DnZPeqbn",
        "outputId": "d66c7d9c-8494-4dcc-a87d-93a3887d93b5"
      },
      "execution_count": 7,
      "outputs": [
        {
          "output_type": "stream",
          "name": "stdout",
          "text": [
            "Epoch 1/100\n",
            "\u001b[1m2/2\u001b[0m \u001b[32m━━━━━━━━━━━━━━━━━━━━\u001b[0m\u001b[37m\u001b[0m \u001b[1m7s\u001b[0m 610ms/step - accuracy: 0.0607 - loss: 3.8069 - val_accuracy: 0.0000e+00 - val_loss: 3.8082\n",
            "Epoch 2/100\n",
            "\u001b[1m2/2\u001b[0m \u001b[32m━━━━━━━━━━━━━━━━━━━━\u001b[0m\u001b[37m\u001b[0m \u001b[1m0s\u001b[0m 64ms/step - accuracy: 0.1861 - loss: 3.8031 - val_accuracy: 0.0000e+00 - val_loss: 3.8103\n",
            "Epoch 3/100\n",
            "\u001b[1m2/2\u001b[0m \u001b[32m━━━━━━━━━━━━━━━━━━━━\u001b[0m\u001b[37m\u001b[0m \u001b[1m0s\u001b[0m 65ms/step - accuracy: 0.1631 - loss: 3.8003 - val_accuracy: 0.0000e+00 - val_loss: 3.8128\n",
            "Epoch 4/100\n",
            "\u001b[1m2/2\u001b[0m \u001b[32m━━━━━━━━━━━━━━━━━━━━\u001b[0m\u001b[37m\u001b[0m \u001b[1m0s\u001b[0m 64ms/step - accuracy: 0.1215 - loss: 3.7963 - val_accuracy: 0.0000e+00 - val_loss: 3.8157\n",
            "Epoch 5/100\n",
            "\u001b[1m2/2\u001b[0m \u001b[32m━━━━━━━━━━━━━━━━━━━━\u001b[0m\u001b[37m\u001b[0m \u001b[1m0s\u001b[0m 73ms/step - accuracy: 0.1527 - loss: 3.7914 - val_accuracy: 0.0000e+00 - val_loss: 3.8190\n",
            "Epoch 6/100\n",
            "\u001b[1m2/2\u001b[0m \u001b[32m━━━━━━━━━━━━━━━━━━━━\u001b[0m\u001b[37m\u001b[0m \u001b[1m0s\u001b[0m 60ms/step - accuracy: 0.1527 - loss: 3.7864 - val_accuracy: 0.0000e+00 - val_loss: 3.8228\n",
            "Epoch 7/100\n",
            "\u001b[1m2/2\u001b[0m \u001b[32m━━━━━━━━━━━━━━━━━━━━\u001b[0m\u001b[37m\u001b[0m \u001b[1m0s\u001b[0m 68ms/step - accuracy: 0.1527 - loss: 3.7819 - val_accuracy: 0.0000e+00 - val_loss: 3.8271\n",
            "Epoch 8/100\n",
            "\u001b[1m2/2\u001b[0m \u001b[32m━━━━━━━━━━━━━━━━━━━━\u001b[0m\u001b[37m\u001b[0m \u001b[1m0s\u001b[0m 65ms/step - accuracy: 0.1319 - loss: 3.7742 - val_accuracy: 0.0000e+00 - val_loss: 3.8322\n",
            "Epoch 9/100\n",
            "\u001b[1m2/2\u001b[0m \u001b[32m━━━━━━━━━━━━━━━━━━━━\u001b[0m\u001b[37m\u001b[0m \u001b[1m0s\u001b[0m 62ms/step - accuracy: 0.1423 - loss: 3.7668 - val_accuracy: 0.0000e+00 - val_loss: 3.8385\n",
            "Epoch 10/100\n",
            "\u001b[1m2/2\u001b[0m \u001b[32m━━━━━━━━━━━━━━━━━━━━\u001b[0m\u001b[37m\u001b[0m \u001b[1m0s\u001b[0m 64ms/step - accuracy: 0.1423 - loss: 3.7549 - val_accuracy: 0.0000e+00 - val_loss: 3.8464\n",
            "Epoch 11/100\n",
            "\u001b[1m2/2\u001b[0m \u001b[32m━━━━━━━━━━━━━━━━━━━━\u001b[0m\u001b[37m\u001b[0m \u001b[1m0s\u001b[0m 63ms/step - accuracy: 0.1423 - loss: 3.7418 - val_accuracy: 0.0000e+00 - val_loss: 3.8564\n",
            "Epoch 12/100\n",
            "\u001b[1m2/2\u001b[0m \u001b[32m━━━━━━━━━━━━━━━━━━━━\u001b[0m\u001b[37m\u001b[0m \u001b[1m0s\u001b[0m 64ms/step - accuracy: 0.1423 - loss: 3.7282 - val_accuracy: 0.0000e+00 - val_loss: 3.8695\n",
            "Epoch 13/100\n",
            "\u001b[1m2/2\u001b[0m \u001b[32m━━━━━━━━━━━━━━━━━━━━\u001b[0m\u001b[37m\u001b[0m \u001b[1m0s\u001b[0m 66ms/step - accuracy: 0.1423 - loss: 3.7083 - val_accuracy: 0.0000e+00 - val_loss: 3.8866\n",
            "Epoch 14/100\n",
            "\u001b[1m2/2\u001b[0m \u001b[32m━━━━━━━━━━━━━━━━━━━━\u001b[0m\u001b[37m\u001b[0m \u001b[1m0s\u001b[0m 61ms/step - accuracy: 0.1631 - loss: 3.6738 - val_accuracy: 0.0000e+00 - val_loss: 3.9095\n",
            "Epoch 15/100\n",
            "\u001b[1m2/2\u001b[0m \u001b[32m━━━━━━━━━━━━━━━━━━━━\u001b[0m\u001b[37m\u001b[0m \u001b[1m0s\u001b[0m 71ms/step - accuracy: 0.1527 - loss: 3.6476 - val_accuracy: 0.0000e+00 - val_loss: 3.9398\n",
            "Epoch 16/100\n",
            "\u001b[1m2/2\u001b[0m \u001b[32m━━━━━━━━━━━━━━━━━━━━\u001b[0m\u001b[37m\u001b[0m \u001b[1m0s\u001b[0m 64ms/step - accuracy: 0.1527 - loss: 3.6084 - val_accuracy: 0.0000e+00 - val_loss: 3.9824\n",
            "Epoch 17/100\n",
            "\u001b[1m2/2\u001b[0m \u001b[32m━━━━━━━━━━━━━━━━━━━━\u001b[0m\u001b[37m\u001b[0m \u001b[1m0s\u001b[0m 60ms/step - accuracy: 0.1319 - loss: 3.5445 - val_accuracy: 0.0000e+00 - val_loss: 4.0432\n",
            "Epoch 18/100\n",
            "\u001b[1m2/2\u001b[0m \u001b[32m━━━━━━━━━━━━━━━━━━━━\u001b[0m\u001b[37m\u001b[0m \u001b[1m0s\u001b[0m 66ms/step - accuracy: 0.1631 - loss: 3.4677 - val_accuracy: 0.0000e+00 - val_loss: 4.1308\n",
            "Epoch 19/100\n",
            "\u001b[1m2/2\u001b[0m \u001b[32m━━━━━━━━━━━━━━━━━━━━\u001b[0m\u001b[37m\u001b[0m \u001b[1m0s\u001b[0m 65ms/step - accuracy: 0.1735 - loss: 3.3789 - val_accuracy: 0.0000e+00 - val_loss: 4.2527\n",
            "Epoch 20/100\n",
            "\u001b[1m2/2\u001b[0m \u001b[32m━━━━━━━━━━━━━━━━━━━━\u001b[0m\u001b[37m\u001b[0m \u001b[1m0s\u001b[0m 61ms/step - accuracy: 0.1527 - loss: 3.3082 - val_accuracy: 0.0000e+00 - val_loss: 4.4130\n",
            "Epoch 21/100\n",
            "\u001b[1m2/2\u001b[0m \u001b[32m━━━━━━━━━━━━━━━━━━━━\u001b[0m\u001b[37m\u001b[0m \u001b[1m0s\u001b[0m 64ms/step - accuracy: 0.1527 - loss: 3.2212 - val_accuracy: 0.0000e+00 - val_loss: 4.5887\n",
            "Epoch 22/100\n",
            "\u001b[1m2/2\u001b[0m \u001b[32m━━━━━━━━━━━━━━━━━━━━\u001b[0m\u001b[37m\u001b[0m \u001b[1m0s\u001b[0m 64ms/step - accuracy: 0.1527 - loss: 3.1860 - val_accuracy: 0.0000e+00 - val_loss: 4.6999\n",
            "Epoch 23/100\n",
            "\u001b[1m2/2\u001b[0m \u001b[32m━━━━━━━━━━━━━━━━━━━━\u001b[0m\u001b[37m\u001b[0m \u001b[1m0s\u001b[0m 106ms/step - accuracy: 0.1527 - loss: 3.1789 - val_accuracy: 0.0000e+00 - val_loss: 4.7312\n",
            "Epoch 24/100\n",
            "\u001b[1m2/2\u001b[0m \u001b[32m━━━━━━━━━━━━━━━━━━━━\u001b[0m\u001b[37m\u001b[0m \u001b[1m0s\u001b[0m 64ms/step - accuracy: 0.1297 - loss: 3.1521 - val_accuracy: 0.0000e+00 - val_loss: 4.7211\n",
            "Epoch 25/100\n",
            "\u001b[1m2/2\u001b[0m \u001b[32m━━━━━━━━━━━━━━━━━━━━\u001b[0m\u001b[37m\u001b[0m \u001b[1m0s\u001b[0m 61ms/step - accuracy: 0.1987 - loss: 3.0543 - val_accuracy: 0.0000e+00 - val_loss: 4.7112\n",
            "Epoch 26/100\n",
            "\u001b[1m2/2\u001b[0m \u001b[32m━━━━━━━━━━━━━━━━━━━━\u001b[0m\u001b[37m\u001b[0m \u001b[1m0s\u001b[0m 66ms/step - accuracy: 0.1883 - loss: 3.0248 - val_accuracy: 0.0000e+00 - val_loss: 4.7157\n",
            "Epoch 27/100\n",
            "\u001b[1m2/2\u001b[0m \u001b[32m━━━━━━━━━━━━━━━━━━━━\u001b[0m\u001b[37m\u001b[0m \u001b[1m0s\u001b[0m 64ms/step - accuracy: 0.2113 - loss: 2.9847 - val_accuracy: 0.0000e+00 - val_loss: 4.7458\n",
            "Epoch 28/100\n",
            "\u001b[1m2/2\u001b[0m \u001b[32m━━━━━━━━━━━━━━━━━━━━\u001b[0m\u001b[37m\u001b[0m \u001b[1m0s\u001b[0m 66ms/step - accuracy: 0.1696 - loss: 2.9283 - val_accuracy: 0.0000e+00 - val_loss: 4.8077\n",
            "Epoch 29/100\n",
            "\u001b[1m2/2\u001b[0m \u001b[32m━━━━━━━━━━━━━━━━━━━━\u001b[0m\u001b[37m\u001b[0m \u001b[1m0s\u001b[0m 64ms/step - accuracy: 0.2447 - loss: 2.8511 - val_accuracy: 0.0000e+00 - val_loss: 4.8961\n",
            "Epoch 30/100\n",
            "\u001b[1m2/2\u001b[0m \u001b[32m━━━━━━━━━━━━━━━━━━━━\u001b[0m\u001b[37m\u001b[0m \u001b[1m0s\u001b[0m 69ms/step - accuracy: 0.1904 - loss: 2.8144 - val_accuracy: 0.0000e+00 - val_loss: 4.9985\n",
            "Epoch 31/100\n",
            "\u001b[1m2/2\u001b[0m \u001b[32m━━━━━━━━━━━━━━━━━━━━\u001b[0m\u001b[37m\u001b[0m \u001b[1m0s\u001b[0m 64ms/step - accuracy: 0.2260 - loss: 2.7742 - val_accuracy: 0.0000e+00 - val_loss: 5.1019\n",
            "Epoch 32/100\n",
            "\u001b[1m2/2\u001b[0m \u001b[32m━━━━━━━━━━━━━━━━━━━━\u001b[0m\u001b[37m\u001b[0m \u001b[1m0s\u001b[0m 63ms/step - accuracy: 0.1779 - loss: 2.8036 - val_accuracy: 0.0000e+00 - val_loss: 5.2009\n",
            "Epoch 33/100\n",
            "\u001b[1m2/2\u001b[0m \u001b[32m━━━━━━━━━━━━━━━━━━━━\u001b[0m\u001b[37m\u001b[0m \u001b[1m0s\u001b[0m 65ms/step - accuracy: 0.2113 - loss: 2.7030 - val_accuracy: 0.0000e+00 - val_loss: 5.2993\n",
            "Epoch 34/100\n",
            "\u001b[1m2/2\u001b[0m \u001b[32m━━━━━━━━━━━━━━━━━━━━\u001b[0m\u001b[37m\u001b[0m \u001b[1m0s\u001b[0m 63ms/step - accuracy: 0.2573 - loss: 2.6627 - val_accuracy: 0.0000e+00 - val_loss: 5.3895\n",
            "Epoch 35/100\n",
            "\u001b[1m2/2\u001b[0m \u001b[32m━━━━━━━━━━━━━━━━━━━━\u001b[0m\u001b[37m\u001b[0m \u001b[1m0s\u001b[0m 79ms/step - accuracy: 0.2156 - loss: 2.6097 - val_accuracy: 0.0000e+00 - val_loss: 5.4579\n",
            "Epoch 36/100\n",
            "\u001b[1m2/2\u001b[0m \u001b[32m━━━━━━━━━━━━━━━━━━━━\u001b[0m\u001b[37m\u001b[0m \u001b[1m0s\u001b[0m 66ms/step - accuracy: 0.2343 - loss: 2.5767 - val_accuracy: 0.0000e+00 - val_loss: 5.5100\n",
            "Epoch 37/100\n",
            "\u001b[1m2/2\u001b[0m \u001b[32m━━━━━━━━━━━━━━━━━━━━\u001b[0m\u001b[37m\u001b[0m \u001b[1m0s\u001b[0m 63ms/step - accuracy: 0.2907 - loss: 2.4872 - val_accuracy: 0.0000e+00 - val_loss: 5.5634\n",
            "Epoch 38/100\n",
            "\u001b[1m2/2\u001b[0m \u001b[32m━━━━━━━━━━━━━━━━━━━━\u001b[0m\u001b[37m\u001b[0m \u001b[1m0s\u001b[0m 65ms/step - accuracy: 0.2239 - loss: 2.5210 - val_accuracy: 0.0000e+00 - val_loss: 5.6063\n",
            "Epoch 39/100\n",
            "\u001b[1m2/2\u001b[0m \u001b[32m━━━━━━━━━━━━━━━━━━━━\u001b[0m\u001b[37m\u001b[0m \u001b[1m0s\u001b[0m 64ms/step - accuracy: 0.2239 - loss: 2.5089 - val_accuracy: 0.0000e+00 - val_loss: 5.6473\n",
            "Epoch 40/100\n",
            "\u001b[1m2/2\u001b[0m \u001b[32m━━━━━━━━━━━━━━━━━━━━\u001b[0m\u001b[37m\u001b[0m \u001b[1m0s\u001b[0m 68ms/step - accuracy: 0.2156 - loss: 2.5383 - val_accuracy: 0.0000e+00 - val_loss: 5.6894\n",
            "Epoch 41/100\n",
            "\u001b[1m2/2\u001b[0m \u001b[32m━━━━━━━━━━━━━━━━━━━━\u001b[0m\u001b[37m\u001b[0m \u001b[1m0s\u001b[0m 71ms/step - accuracy: 0.2469 - loss: 2.3937 - val_accuracy: 0.0000e+00 - val_loss: 5.7778\n",
            "Epoch 42/100\n",
            "\u001b[1m2/2\u001b[0m \u001b[32m━━━━━━━━━━━━━━━━━━━━\u001b[0m\u001b[37m\u001b[0m \u001b[1m0s\u001b[0m 63ms/step - accuracy: 0.2469 - loss: 2.3819 - val_accuracy: 0.0000e+00 - val_loss: 5.9046\n",
            "Epoch 43/100\n",
            "\u001b[1m2/2\u001b[0m \u001b[32m━━━━━━━━━━━━━━━━━━━━\u001b[0m\u001b[37m\u001b[0m \u001b[1m0s\u001b[0m 67ms/step - accuracy: 0.2364 - loss: 2.3910 - val_accuracy: 0.0000e+00 - val_loss: 6.0524\n",
            "Epoch 44/100\n",
            "\u001b[1m2/2\u001b[0m \u001b[32m━━━━━━━━━━━━━━━━━━━━\u001b[0m\u001b[37m\u001b[0m \u001b[1m0s\u001b[0m 63ms/step - accuracy: 0.2803 - loss: 2.2753 - val_accuracy: 0.0000e+00 - val_loss: 6.2033\n",
            "Epoch 45/100\n",
            "\u001b[1m2/2\u001b[0m \u001b[32m━━━━━━━━━━━━━━━━━━━━\u001b[0m\u001b[37m\u001b[0m \u001b[1m0s\u001b[0m 66ms/step - accuracy: 0.3033 - loss: 2.3049 - val_accuracy: 0.0000e+00 - val_loss: 6.3467\n",
            "Epoch 46/100\n",
            "\u001b[1m2/2\u001b[0m \u001b[32m━━━━━━━━━━━━━━━━━━━━\u001b[0m\u001b[37m\u001b[0m \u001b[1m0s\u001b[0m 67ms/step - accuracy: 0.2030 - loss: 2.2762 - val_accuracy: 0.0000e+00 - val_loss: 6.4334\n",
            "Epoch 47/100\n",
            "\u001b[1m2/2\u001b[0m \u001b[32m━━━━━━━━━━━━━━━━━━━━\u001b[0m\u001b[37m\u001b[0m \u001b[1m0s\u001b[0m 64ms/step - accuracy: 0.2009 - loss: 2.2235 - val_accuracy: 0.0000e+00 - val_loss: 6.5186\n",
            "Epoch 48/100\n",
            "\u001b[1m2/2\u001b[0m \u001b[32m━━━━━━━━━━━━━━━━━━━━\u001b[0m\u001b[37m\u001b[0m \u001b[1m0s\u001b[0m 66ms/step - accuracy: 0.2551 - loss: 2.0722 - val_accuracy: 0.0000e+00 - val_loss: 6.6263\n",
            "Epoch 49/100\n",
            "\u001b[1m2/2\u001b[0m \u001b[32m━━━━━━━━━━━━━━━━━━━━\u001b[0m\u001b[37m\u001b[0m \u001b[1m0s\u001b[0m 62ms/step - accuracy: 0.2677 - loss: 2.1338 - val_accuracy: 0.0000e+00 - val_loss: 6.7054\n",
            "Epoch 50/100\n",
            "\u001b[1m2/2\u001b[0m \u001b[32m━━━━━━━━━━━━━━━━━━━━\u001b[0m\u001b[37m\u001b[0m \u001b[1m0s\u001b[0m 67ms/step - accuracy: 0.2616 - loss: 2.1577 - val_accuracy: 0.0000e+00 - val_loss: 6.7591\n",
            "Epoch 51/100\n",
            "\u001b[1m2/2\u001b[0m \u001b[32m━━━━━━━━━━━━━━━━━━━━\u001b[0m\u001b[37m\u001b[0m \u001b[1m0s\u001b[0m 67ms/step - accuracy: 0.2824 - loss: 2.0548 - val_accuracy: 0.0000e+00 - val_loss: 6.8322\n",
            "Epoch 52/100\n",
            "\u001b[1m2/2\u001b[0m \u001b[32m━━━━━━━━━━━━━━━━━━━━\u001b[0m\u001b[37m\u001b[0m \u001b[1m0s\u001b[0m 66ms/step - accuracy: 0.2803 - loss: 2.0152 - val_accuracy: 0.0000e+00 - val_loss: 6.9112\n",
            "Epoch 53/100\n",
            "\u001b[1m2/2\u001b[0m \u001b[32m━━━━━━━━━━━━━━━━━━━━\u001b[0m\u001b[37m\u001b[0m \u001b[1m0s\u001b[0m 65ms/step - accuracy: 0.3158 - loss: 1.9627 - val_accuracy: 0.0000e+00 - val_loss: 7.0007\n",
            "Epoch 54/100\n",
            "\u001b[1m2/2\u001b[0m \u001b[32m━━━━━━━━━━━━━━━━━━━━\u001b[0m\u001b[37m\u001b[0m \u001b[1m0s\u001b[0m 104ms/step - accuracy: 0.3557 - loss: 1.9653 - val_accuracy: 0.0000e+00 - val_loss: 7.1333\n",
            "Epoch 55/100\n",
            "\u001b[1m2/2\u001b[0m \u001b[32m━━━━━━━━━━━━━━━━━━━━\u001b[0m\u001b[37m\u001b[0m \u001b[1m0s\u001b[0m 109ms/step - accuracy: 0.3536 - loss: 1.9011 - val_accuracy: 0.0000e+00 - val_loss: 7.2883\n",
            "Epoch 56/100\n",
            "\u001b[1m2/2\u001b[0m \u001b[32m━━━━━━━━━━━━━━━━━━━━\u001b[0m\u001b[37m\u001b[0m \u001b[1m0s\u001b[0m 68ms/step - accuracy: 0.3432 - loss: 1.9173 - val_accuracy: 0.0000e+00 - val_loss: 7.4065\n",
            "Epoch 57/100\n",
            "\u001b[1m2/2\u001b[0m \u001b[32m━━━━━━━━━━━━━━━━━━━━\u001b[0m\u001b[37m\u001b[0m \u001b[1m0s\u001b[0m 66ms/step - accuracy: 0.3996 - loss: 1.8201 - val_accuracy: 0.0000e+00 - val_loss: 7.5542\n",
            "Epoch 58/100\n",
            "\u001b[1m2/2\u001b[0m \u001b[32m━━━━━━━━━━━━━━━━━━━━\u001b[0m\u001b[37m\u001b[0m \u001b[1m0s\u001b[0m 63ms/step - accuracy: 0.3410 - loss: 1.7905 - val_accuracy: 0.0000e+00 - val_loss: 7.6833\n",
            "Epoch 59/100\n",
            "\u001b[1m2/2\u001b[0m \u001b[32m━━━━━━━━━━━━━━━━━━━━\u001b[0m\u001b[37m\u001b[0m \u001b[1m0s\u001b[0m 65ms/step - accuracy: 0.3766 - loss: 1.8226 - val_accuracy: 0.0000e+00 - val_loss: 7.7821\n",
            "Epoch 60/100\n",
            "\u001b[1m2/2\u001b[0m \u001b[32m━━━━━━━━━━━━━━━━━━━━\u001b[0m\u001b[37m\u001b[0m \u001b[1m0s\u001b[0m 68ms/step - accuracy: 0.4330 - loss: 1.6849 - val_accuracy: 0.0000e+00 - val_loss: 7.8167\n",
            "Epoch 61/100\n",
            "\u001b[1m2/2\u001b[0m \u001b[32m━━━━━━━━━━━━━━━━━━━━\u001b[0m\u001b[37m\u001b[0m \u001b[1m0s\u001b[0m 61ms/step - accuracy: 0.4373 - loss: 1.7496 - val_accuracy: 0.0000e+00 - val_loss: 7.9150\n",
            "Epoch 62/100\n",
            "\u001b[1m2/2\u001b[0m \u001b[32m━━━━━━━━━━━━━━━━━━━━\u001b[0m\u001b[37m\u001b[0m \u001b[1m0s\u001b[0m 65ms/step - accuracy: 0.4351 - loss: 1.6366 - val_accuracy: 0.0000e+00 - val_loss: 8.0302\n",
            "Epoch 63/100\n",
            "\u001b[1m2/2\u001b[0m \u001b[32m━━━━━━━━━━━━━━━━━━━━\u001b[0m\u001b[37m\u001b[0m \u001b[1m0s\u001b[0m 65ms/step - accuracy: 0.4395 - loss: 1.6867 - val_accuracy: 0.0000e+00 - val_loss: 8.1996\n",
            "Epoch 64/100\n",
            "\u001b[1m2/2\u001b[0m \u001b[32m━━━━━━━━━━━━━━━━━━━━\u001b[0m\u001b[37m\u001b[0m \u001b[1m0s\u001b[0m 80ms/step - accuracy: 0.5063 - loss: 1.5416 - val_accuracy: 0.0000e+00 - val_loss: 8.3453\n",
            "Epoch 65/100\n",
            "\u001b[1m2/2\u001b[0m \u001b[32m━━━━━━━━━━━━━━━━━━━━\u001b[0m\u001b[37m\u001b[0m \u001b[1m0s\u001b[0m 68ms/step - accuracy: 0.4499 - loss: 1.5711 - val_accuracy: 0.0000e+00 - val_loss: 8.4595\n",
            "Epoch 66/100\n",
            "\u001b[1m2/2\u001b[0m \u001b[32m━━━━━━━━━━━━━━━━━━━━\u001b[0m\u001b[37m\u001b[0m \u001b[1m0s\u001b[0m 64ms/step - accuracy: 0.5501 - loss: 1.5281 - val_accuracy: 0.0000e+00 - val_loss: 8.5945\n",
            "Epoch 67/100\n",
            "\u001b[1m2/2\u001b[0m \u001b[32m━━━━━━━━━━━━━━━━━━━━\u001b[0m\u001b[37m\u001b[0m \u001b[1m0s\u001b[0m 65ms/step - accuracy: 0.4603 - loss: 1.4149 - val_accuracy: 0.0000e+00 - val_loss: 8.7751\n",
            "Epoch 68/100\n",
            "\u001b[1m2/2\u001b[0m \u001b[32m━━━━━━━━━━━━━━━━━━━━\u001b[0m\u001b[37m\u001b[0m \u001b[1m0s\u001b[0m 65ms/step - accuracy: 0.6568 - loss: 1.3114 - val_accuracy: 0.0000e+00 - val_loss: 8.9408\n",
            "Epoch 69/100\n",
            "\u001b[1m2/2\u001b[0m \u001b[32m━━━━━━━━━━━━━━━━━━━━\u001b[0m\u001b[37m\u001b[0m \u001b[1m0s\u001b[0m 64ms/step - accuracy: 0.5900 - loss: 1.4060 - val_accuracy: 0.0000e+00 - val_loss: 9.0303\n",
            "Epoch 70/100\n",
            "\u001b[1m2/2\u001b[0m \u001b[32m━━━━━━━━━━━━━━━━━━━━\u001b[0m\u001b[37m\u001b[0m \u001b[1m0s\u001b[0m 68ms/step - accuracy: 0.5085 - loss: 1.4408 - val_accuracy: 0.0000e+00 - val_loss: 9.1240\n",
            "Epoch 71/100\n",
            "\u001b[1m2/2\u001b[0m \u001b[32m━━━━━━━━━━━━━━━━━━━━\u001b[0m\u001b[37m\u001b[0m \u001b[1m0s\u001b[0m 65ms/step - accuracy: 0.5857 - loss: 1.2983 - val_accuracy: 0.0000e+00 - val_loss: 9.2768\n",
            "Epoch 72/100\n",
            "\u001b[1m2/2\u001b[0m \u001b[32m━━━━━━━━━━━━━━━━━━━━\u001b[0m\u001b[37m\u001b[0m \u001b[1m0s\u001b[0m 66ms/step - accuracy: 0.5063 - loss: 1.2848 - val_accuracy: 0.0000e+00 - val_loss: 9.4480\n",
            "Epoch 73/100\n",
            "\u001b[1m2/2\u001b[0m \u001b[32m━━━━━━━━━━━━━━━━━━━━\u001b[0m\u001b[37m\u001b[0m \u001b[1m0s\u001b[0m 67ms/step - accuracy: 0.5900 - loss: 1.2641 - val_accuracy: 0.0000e+00 - val_loss: 9.6440\n",
            "Epoch 74/100\n",
            "\u001b[1m2/2\u001b[0m \u001b[32m━━━━━━━━━━━━━━━━━━━━\u001b[0m\u001b[37m\u001b[0m \u001b[1m0s\u001b[0m 77ms/step - accuracy: 0.6360 - loss: 1.1968 - val_accuracy: 0.0000e+00 - val_loss: 9.8226\n",
            "Epoch 75/100\n",
            "\u001b[1m2/2\u001b[0m \u001b[32m━━━━━━━━━━━━━━━━━━━━\u001b[0m\u001b[37m\u001b[0m \u001b[1m0s\u001b[0m 65ms/step - accuracy: 0.6694 - loss: 1.1360 - val_accuracy: 0.0000e+00 - val_loss: 9.9216\n",
            "Epoch 76/100\n",
            "\u001b[1m2/2\u001b[0m \u001b[32m━━━━━━━━━━━━━━━━━━━━\u001b[0m\u001b[37m\u001b[0m \u001b[1m0s\u001b[0m 62ms/step - accuracy: 0.6338 - loss: 1.1519 - val_accuracy: 0.0000e+00 - val_loss: 9.9246\n",
            "Epoch 77/100\n",
            "\u001b[1m2/2\u001b[0m \u001b[32m━━━━━━━━━━━━━━━━━━━━\u001b[0m\u001b[37m\u001b[0m \u001b[1m0s\u001b[0m 66ms/step - accuracy: 0.5544 - loss: 1.1689 - val_accuracy: 0.0000e+00 - val_loss: 9.9084\n",
            "Epoch 78/100\n",
            "\u001b[1m2/2\u001b[0m \u001b[32m━━━━━━━━━━━━━━━━━━━━\u001b[0m\u001b[37m\u001b[0m \u001b[1m0s\u001b[0m 86ms/step - accuracy: 0.6004 - loss: 1.0802 - val_accuracy: 0.0000e+00 - val_loss: 9.9646\n",
            "Epoch 79/100\n",
            "\u001b[1m2/2\u001b[0m \u001b[32m━━━━━━━━━━━━━━━━━━━━\u001b[0m\u001b[37m\u001b[0m \u001b[1m0s\u001b[0m 66ms/step - accuracy: 0.6798 - loss: 1.0519 - val_accuracy: 0.0000e+00 - val_loss: 10.1292\n",
            "Epoch 80/100\n",
            "\u001b[1m2/2\u001b[0m \u001b[32m━━━━━━━━━━━━━━━━━━━━\u001b[0m\u001b[37m\u001b[0m \u001b[1m0s\u001b[0m 65ms/step - accuracy: 0.6798 - loss: 1.0185 - val_accuracy: 0.0000e+00 - val_loss: 10.2973\n",
            "Epoch 81/100\n",
            "\u001b[1m2/2\u001b[0m \u001b[32m━━━━━━━━━━━━━━━━━━━━\u001b[0m\u001b[37m\u001b[0m \u001b[1m0s\u001b[0m 62ms/step - accuracy: 0.6863 - loss: 1.0127 - val_accuracy: 0.0000e+00 - val_loss: 10.4715\n",
            "Epoch 82/100\n",
            "\u001b[1m2/2\u001b[0m \u001b[32m━━━━━━━━━━━━━━━━━━━━\u001b[0m\u001b[37m\u001b[0m \u001b[1m0s\u001b[0m 66ms/step - accuracy: 0.7510 - loss: 0.9244 - val_accuracy: 0.0000e+00 - val_loss: 10.5722\n",
            "Epoch 83/100\n",
            "\u001b[1m2/2\u001b[0m \u001b[32m━━━━━━━━━━━━━━━━━━━━\u001b[0m\u001b[37m\u001b[0m \u001b[1m0s\u001b[0m 69ms/step - accuracy: 0.7132 - loss: 0.8829 - val_accuracy: 0.0000e+00 - val_loss: 10.6028\n",
            "Epoch 84/100\n",
            "\u001b[1m2/2\u001b[0m \u001b[32m━━━━━━━━━━━━━━━━━━━━\u001b[0m\u001b[37m\u001b[0m \u001b[1m0s\u001b[0m 66ms/step - accuracy: 0.7510 - loss: 0.8567 - val_accuracy: 0.0000e+00 - val_loss: 10.6359\n",
            "Epoch 85/100\n",
            "\u001b[1m2/2\u001b[0m \u001b[32m━━━━━━━━━━━━━━━━━━━━\u001b[0m\u001b[37m\u001b[0m \u001b[1m0s\u001b[0m 67ms/step - accuracy: 0.6946 - loss: 0.8824 - val_accuracy: 0.0000e+00 - val_loss: 10.7671\n",
            "Epoch 86/100\n",
            "\u001b[1m2/2\u001b[0m \u001b[32m━━━━━━━━━━━━━━━━━━━━\u001b[0m\u001b[37m\u001b[0m \u001b[1m0s\u001b[0m 66ms/step - accuracy: 0.6590 - loss: 0.9770 - val_accuracy: 0.0000e+00 - val_loss: 10.9549\n",
            "Epoch 87/100\n",
            "\u001b[1m2/2\u001b[0m \u001b[32m━━━━━━━━━━━━━━━━━━━━\u001b[0m\u001b[37m\u001b[0m \u001b[1m0s\u001b[0m 66ms/step - accuracy: 0.7301 - loss: 0.8465 - val_accuracy: 0.0000e+00 - val_loss: 11.1442\n",
            "Epoch 88/100\n",
            "\u001b[1m2/2\u001b[0m \u001b[32m━━━━━━━━━━━━━━━━━━━━\u001b[0m\u001b[37m\u001b[0m \u001b[1m0s\u001b[0m 61ms/step - accuracy: 0.7761 - loss: 0.8313 - val_accuracy: 0.0000e+00 - val_loss: 11.2770\n",
            "Epoch 89/100\n",
            "\u001b[1m2/2\u001b[0m \u001b[32m━━━━━━━━━━━━━━━━━━━━\u001b[0m\u001b[37m\u001b[0m \u001b[1m0s\u001b[0m 66ms/step - accuracy: 0.8013 - loss: 0.8084 - val_accuracy: 0.0000e+00 - val_loss: 11.3153\n",
            "Epoch 90/100\n",
            "\u001b[1m2/2\u001b[0m \u001b[32m━━━━━━━━━━━━━━━━━━━━\u001b[0m\u001b[37m\u001b[0m \u001b[1m0s\u001b[0m 67ms/step - accuracy: 0.7887 - loss: 0.7739 - val_accuracy: 0.0000e+00 - val_loss: 11.3755\n",
            "Epoch 91/100\n",
            "\u001b[1m2/2\u001b[0m \u001b[32m━━━━━━━━━━━━━━━━━━━━\u001b[0m\u001b[37m\u001b[0m \u001b[1m0s\u001b[0m 71ms/step - accuracy: 0.8703 - loss: 0.7018 - val_accuracy: 0.0000e+00 - val_loss: 11.5889\n",
            "Epoch 92/100\n",
            "\u001b[1m2/2\u001b[0m \u001b[32m━━━━━━━━━━━━━━━━━━━━\u001b[0m\u001b[37m\u001b[0m \u001b[1m0s\u001b[0m 68ms/step - accuracy: 0.7991 - loss: 0.7635 - val_accuracy: 0.0000e+00 - val_loss: 11.7593\n",
            "Epoch 93/100\n",
            "\u001b[1m2/2\u001b[0m \u001b[32m━━━━━━━━━━━━━━━━━━━━\u001b[0m\u001b[37m\u001b[0m \u001b[1m0s\u001b[0m 63ms/step - accuracy: 0.7991 - loss: 0.7247 - val_accuracy: 0.0000e+00 - val_loss: 11.8333\n",
            "Epoch 94/100\n",
            "\u001b[1m2/2\u001b[0m \u001b[32m━━━━━━━━━━━━━━━━━━━━\u001b[0m\u001b[37m\u001b[0m \u001b[1m0s\u001b[0m 69ms/step - accuracy: 0.7553 - loss: 0.6975 - val_accuracy: 0.0000e+00 - val_loss: 11.8245\n",
            "Epoch 95/100\n",
            "\u001b[1m2/2\u001b[0m \u001b[32m━━━━━━━━━━━━━━━━━━━━\u001b[0m\u001b[37m\u001b[0m \u001b[1m0s\u001b[0m 66ms/step - accuracy: 0.8243 - loss: 0.6833 - val_accuracy: 0.0000e+00 - val_loss: 11.8263\n",
            "Epoch 96/100\n",
            "\u001b[1m2/2\u001b[0m \u001b[32m━━━━━━━━━━━━━━━━━━━━\u001b[0m\u001b[37m\u001b[0m \u001b[1m0s\u001b[0m 99ms/step - accuracy: 0.8117 - loss: 0.6332 - val_accuracy: 0.0000e+00 - val_loss: 11.9272\n",
            "Epoch 97/100\n",
            "\u001b[1m2/2\u001b[0m \u001b[32m━━━━━━━━━━━━━━━━━━━━\u001b[0m\u001b[37m\u001b[0m \u001b[1m0s\u001b[0m 132ms/step - accuracy: 0.8265 - loss: 0.6399 - val_accuracy: 0.0000e+00 - val_loss: 12.0950\n",
            "Epoch 98/100\n",
            "\u001b[1m2/2\u001b[0m \u001b[32m━━━━━━━━━━━━━━━━━━━━\u001b[0m\u001b[37m\u001b[0m \u001b[1m0s\u001b[0m 86ms/step - accuracy: 0.8243 - loss: 0.5954 - val_accuracy: 0.0000e+00 - val_loss: 12.2127\n",
            "Epoch 99/100\n",
            "\u001b[1m2/2\u001b[0m \u001b[32m━━━━━━━━━━━━━━━━━━━━\u001b[0m\u001b[37m\u001b[0m \u001b[1m0s\u001b[0m 92ms/step - accuracy: 0.8117 - loss: 0.6005 - val_accuracy: 0.0000e+00 - val_loss: 12.4186\n",
            "Epoch 100/100\n",
            "\u001b[1m2/2\u001b[0m \u001b[32m━━━━━━━━━━━━━━━━━━━━\u001b[0m\u001b[37m\u001b[0m \u001b[1m0s\u001b[0m 148ms/step - accuracy: 0.9184 - loss: 0.5412 - val_accuracy: 0.0000e+00 - val_loss: 12.5531\n"
          ]
        }
      ]
    },
    {
      "cell_type": "markdown",
      "source": [
        "###Plot Training History"
      ],
      "metadata": {
        "id": "tJiqxU81etrF"
      }
    },
    {
      "cell_type": "code",
      "source": [
        "plt.figure(figsize=(14, 5))\n",
        "\n",
        "plt.subplot(1, 2, 1)\n",
        "plt.plot(history.history['loss'], label='Training Loss')\n",
        "plt.plot(history.history['val_loss'], label='Validation Loss')\n",
        "plt.title('Model Loss')\n",
        "plt.xlabel('Epoch')\n",
        "plt.ylabel('Loss')\n",
        "plt.legend()\n",
        "plt.grid(True)\n",
        "\n",
        "plt.subplot(1, 2, 2)\n",
        "plt.plot(history.history['accuracy'], label='Training Accuracy')\n",
        "plt.plot(history.history['val_accuracy'], label='Validation Accuracy')\n",
        "plt.title('Model Accuracy')\n",
        "plt.xlabel('Epoch')\n",
        "plt.ylabel('Accuracy')\n",
        "plt.legend()\n",
        "plt.grid(True)\n",
        "\n",
        "plt.tight_layout()"
      ],
      "metadata": {
        "colab": {
          "base_uri": "https://localhost:8080/",
          "height": 507
        },
        "id": "u-N1hTwYewTu",
        "outputId": "9379361e-0cd3-4353-e8d4-983e34cf6a04"
      },
      "execution_count": 8,
      "outputs": [
        {
          "output_type": "display_data",
          "data": {
            "text/plain": [
              "<Figure size 1400x500 with 2 Axes>"
            ],
            "image/png": "[encoded data removed]"
          },
          "metadata": {}
        }
      ]
    },
    {
      "cell_type": "markdown",
      "source": [
        "###Predict Next Word Function"
      ],
      "metadata": {
        "id": "ynz0Cno8e3AB"
      }
    },
    {
      "cell_type": "code",
      "source": [
        "def predict_next_word(model, tokenizer, text, seq_length):\n",
        "    \"\"\"Predict the next word given input text\"\"\"\n",
        "    # Tokenize input text\n",
        "    token_list = tokenizer.texts_to_sequences([text.lower()])[0]\n",
        "\n",
        "    # Take last seq_length tokens\n",
        "    if len(token_list) < seq_length:\n",
        "        print(f\"Please provide at least {seq_length} words\")\n",
        "        return None\n",
        "\n",
        "    token_list = token_list[-seq_length:]\n",
        "    token_list = np.array([token_list])\n",
        "\n",
        "    # Predict\n",
        "    predictions = model.predict(token_list, verbose=0)\n",
        "    predicted_index = np.argmax(predictions, axis=1)[0]\n",
        "\n",
        "    # Convert index back to word\n",
        "    for word, index in tokenizer.word_index.items():\n",
        "        if index == predicted_index:\n",
        "            return word\n",
        "    return None\n",
        "\n",
        "# Test prediction\n",
        "test_text = \"the quick brown\"\n",
        "next_word = predict_next_word(model, tokenizer, test_text, SEQ_LENGTH)\n",
        "print(f\"\\nInput: '{test_text}'\")\n",
        "print(f\"Predicted next word: '{next_word}'\")"
      ],
      "metadata": {
        "colab": {
          "base_uri": "https://localhost:8080/"
        },
        "id": "7erg22iwe6cd",
        "outputId": "5d4ea108-1120-4ac0-a09d-b7ab008b61c9"
      },
      "execution_count": 9,
      "outputs": [
        {
          "output_type": "stream",
          "name": "stdout",
          "text": [
            "\n",
            "Input: 'the quick brown'\n",
            "Predicted next word: 'fox'\n"
          ]
        }
      ]
    },
    {
      "cell_type": "markdown",
      "source": [
        "###Mutiple Tests\n",
        "\n"
      ],
      "metadata": {
        "id": "hzR33X3xfAHL"
      }
    },
    {
      "cell_type": "code",
      "source": [
        "# ============================================\n",
        "# Generate Text Sequence\n",
        "# ============================================\n",
        "def generate_text(model, tokenizer, seed_text, num_words, seq_length):\n",
        "    \"\"\"Generate a sequence of words\"\"\"\n",
        "    result = seed_text\n",
        "\n",
        "    for _ in range(num_words):\n",
        "        # Predict next word\n",
        "        next_word = predict_next_word(model, tokenizer, result, seq_length)\n",
        "        if next_word is None:\n",
        "            break\n",
        "        result += \" \" + next_word\n",
        "\n",
        "    return result\n",
        "\n",
        "# Generate text\n",
        "seed_text = \"the quick brown\"\n",
        "generated = generate_text(model, tokenizer, seed_text, num_words=10, seq_length=SEQ_LENGTH)\n",
        "\n",
        "print(\"\\n\" + \"=\"*50)\n",
        "print(\"TEXT GENERATION\")\n",
        "print(\"=\"*50)\n",
        "print(f\"\\nSeed text: '{seed_text}'\")\n",
        "print(f\"\\nGenerated text:\\n{generated}\")\n",
        "\n",
        "\n",
        "# ============================================\n",
        "#  Interactive Prediction\n",
        "# Test with multiple examples\n",
        "# ============================================\n",
        "print(\"\\n\" + \"=\"*50)\n",
        "print(\"TESTING MULTIPLE PREDICTIONS\")\n",
        "print(\"=\"*50)\n",
        "\n",
        "test_phrases = [\n",
        "    \"the quick brown\",\n",
        "    \"the dog was\",\n",
        "    \"a tree provides\",\n",
        "    \"the sunny day\",\n",
        "    \"flowers bloom in\"\n",
        "]\n",
        "\n",
        "for phrase in test_phrases:\n",
        "    next_word = predict_next_word(model, tokenizer, phrase, SEQ_LENGTH)\n",
        "    print(f\"\\n'{phrase}' -> '{next_word}'\")\n",
        "\n",
        "\n",
        "# ============================================\n",
        "# Prediction with Top N Candidates\n",
        "# Show multiple possible next words\n",
        "# ============================================\n",
        "def predict_top_n_words(model, tokenizer, text, seq_length, top_n=5):\n",
        "    \"\"\"Get top N most likely next words\"\"\"\n",
        "    token_list = tokenizer.texts_to_sequences([text.lower()])[0]\n",
        "\n",
        "    if len(token_list) < seq_length:\n",
        "        print(f\"Please provide at least {seq_length} words\")\n",
        "        return None\n",
        "\n",
        "    token_list = token_list[-seq_length:]\n",
        "    token_list = np.array([token_list])\n",
        "\n",
        "    # Get predictions\n",
        "    predictions = model.predict(token_list, verbose=0)[0]\n",
        "\n",
        "    # Get top N indices\n",
        "    top_indices = np.argsort(predictions)[-top_n:][::-1]\n",
        "\n",
        "    # Convert to words with probabilities\n",
        "    results = []\n",
        "    for idx in top_indices:\n",
        "        for word, index in tokenizer.word_index.items():\n",
        "            if index == idx:\n",
        "                results.append((word, predictions[idx]))\n",
        "                break\n",
        "\n",
        "    return results\n",
        "\n",
        "# Test with top 5 predictions\n",
        "test_text = \"the quick brown\"\n",
        "top_predictions = predict_top_n_words(model, tokenizer, test_text, SEQ_LENGTH, top_n=5)\n",
        "\n",
        "print(f\"\\n\" + \"=\"*50)\n",
        "print(f\"TOP 5 PREDICTIONS for '{test_text}'\")\n",
        "print(\"=\"*50)\n",
        "for i, (word, prob) in enumerate(top_predictions, 1):\n",
        "    print(f\"{i}. '{word}' - Probability: {prob:.4f} ({prob*100:.2f}%)\")"
      ],
      "metadata": {
        "colab": {
          "base_uri": "https://localhost:8080/"
        },
        "id": "L5FyZQVxfBIK",
        "outputId": "61ede6cc-3442-4b63-d6e5-0d4e5d983784"
      },
      "execution_count": 10,
      "outputs": [
        {
          "output_type": "stream",
          "name": "stdout",
          "text": [
            "\n",
            "==================================================\n",
            "TEXT GENERATION\n",
            "==================================================\n",
            "\n",
            "Seed text: 'the quick brown'\n",
            "\n",
            "Generated text:\n",
            "the quick brown fox jumps over the lazy dog the dog was sleeping\n",
            "\n",
            "==================================================\n",
            "TESTING MULTIPLE PREDICTIONS\n",
            "==================================================\n",
            "\n",
            "'the quick brown' -> 'fox'\n",
            "\n",
            "'the dog was' -> 'sleeping'\n",
            "\n",
            "'a tree provides' -> 'shade'\n",
            "\n",
            "'the sunny day' -> 'was'\n",
            "\n",
            "'flowers bloom in' -> 'the'\n",
            "\n",
            "==================================================\n",
            "TOP 5 PREDICTIONS for 'the quick brown'\n",
            "==================================================\n",
            "1. 'fox' - Probability: 0.6893 (68.93%)\n",
            "2. 'was' - Probability: 0.1443 (14.43%)\n",
            "3. 'sleeping' - Probability: 0.1259 (12.59%)\n",
            "4. 'the' - Probability: 0.0165 (1.65%)\n",
            "5. 'dog' - Probability: 0.0137 (1.37%)\n"
          ]
        }
      ]
    },
    {
      "cell_type": "markdown",
      "source": [
        "###Model Evaluations"
      ],
      "metadata": {
        "id": "uBns9onUffMo"
      }
    },
    {
      "cell_type": "code",
      "source": [
        "train_loss, train_acc = model.evaluate(X, y, verbose=0)\n",
        "\n",
        "print(\"\\n\" + \"=\"*50)\n",
        "print(\"MODEL PERFORMANCE\")\n",
        "print(\"=\"*50)\n",
        "print(f\"Training Loss: {train_loss:.4f}\")\n",
        "print(f\"Training Accuracy: {train_acc:.4f} ({train_acc*100:.2f}%)\")\n",
        "print(f\"\\nTotal unique words in vocabulary: {total_words}\")\n",
        "print(f\"Sequence length used: {SEQ_LENGTH} words\")\n",
        "print(f\"Total training samples: {len(X)}\")"
      ],
      "metadata": {
        "colab": {
          "base_uri": "https://localhost:8080/"
        },
        "id": "RQxZlSxTfiTU",
        "outputId": "cb8258ce-20c3-47dd-efc3-0a272b13ff0c"
      },
      "execution_count": 11,
      "outputs": [
        {
          "output_type": "stream",
          "name": "stdout",
          "text": [
            "\n",
            "==================================================\n",
            "MODEL PERFORMANCE\n",
            "==================================================\n",
            "Training Loss: 2.9893\n",
            "Training Accuracy: 0.7463 (74.63%)\n",
            "\n",
            "Total unique words in vocabulary: 45\n",
            "Sequence length used: 3 words\n",
            "Total training samples: 67\n"
          ]
        }
      ]
    }
  ]
}