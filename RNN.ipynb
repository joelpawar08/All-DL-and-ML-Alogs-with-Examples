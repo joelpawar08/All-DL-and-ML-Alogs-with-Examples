{
  "nbformat": 4,
  "nbformat_minor": 0,
  "metadata": {
    "colab": {
      "provenance": [],
      "gpuType": "T4",
      "authorship_tag": "ABX9TyNHwEtmXhFd2Kf17nVfsjzJ",
      "include_colab_link": true
    },
    "kernelspec": {
      "name": "python3",
      "display_name": "Python 3"
    },
    "language_info": {
      "name": "python"
    },
    "accelerator": "GPU"
  },
  "cells": [
    {
      "cell_type": "markdown",
      "metadata": {
        "id": "view-in-github",
        "colab_type": "text"
      },
      "source": [
        "<a href=\"https://colab.research.google.com/github/joelpawar08/CNN-s-and-its-simple-implementations/blob/master/RNN.ipynb\" target=\"_parent\"><img src=\"https://colab.research.google.com/assets/colab-badge.svg\" alt=\"Open In Colab\"/></a>"
      ]
    },
    {
      "cell_type": "markdown",
      "source": [
        "# ============================================\n",
        "# Install and Import Libraries\n",
        "# ============================================\n",
        "##This cell imports all necessary libraries for building our RNN model\n",
        "##TensorFlow/Keras for deep learning, NumPy for numerical operations"
      ],
      "metadata": {
        "id": "sIMskyAjXEuC"
      }
    },
    {
      "cell_type": "code",
      "execution_count": 23,
      "metadata": {
        "colab": {
          "base_uri": "https://localhost:8080/"
        },
        "id": "zceW4ZXgXBj3",
        "outputId": "eebed87b-47c2-4787-e0b4-1a28fd16d98e"
      },
      "outputs": [
        {
          "output_type": "stream",
          "name": "stdout",
          "text": [
            "TensorFlow version: 2.19.0\n"
          ]
        }
      ],
      "source": [
        "import numpy as np\n",
        "import tensorflow as tf\n",
        "from tensorflow.keras.models import Sequential\n",
        "from tensorflow.keras.layers import Embedding, SimpleRNN, Dense\n",
        "from tensorflow.keras.preprocessing.text import Tokenizer\n",
        "from tensorflow.keras.preprocessing.sequence import pad_sequences\n",
        "import matplotlib.pyplot as plt\n",
        "\n",
        "print(f\"TensorFlow version: {tf.__version__}\")\n"
      ]
    },
    {
      "cell_type": "markdown",
      "source": [
        "# ============================================\n",
        "# **Prepare Sample Dataset**\n",
        "# ============================================\n",
        "## Creating a small dataset of movie reviews with sentiment labels\n",
        "## 1 = Positive sentiment, 0 = Negative sentiment\n"
      ],
      "metadata": {
        "id": "qoYp5dDeXZz6"
      }
    },
    {
      "cell_type": "code",
      "source": [
        "texts = [\n",
        "    # Positive reviews\n",
        "    \"This movie was excellent and amazing\",\n",
        "    \"I love this film so much\",\n",
        "    \"Great acting and wonderful story\",\n",
        "    \"Best movie I have ever seen\",\n",
        "    \"Absolutely fantastic and brilliant\",\n",
        "    \"Wonderful film with great performance\",\n",
        "    \"Amazing story and excellent acting\",\n",
        "    \"Really good movie I enjoyed it\",\n",
        "    \"This film was superb and outstanding\",\n",
        "    \"Incredible performance and beautiful cinematography\",\n",
        "    # Negative reviews\n",
        "    \"This movie was terrible and boring\",\n",
        "    \"I hate this film completely\",\n",
        "    \"Worst movie ever made\",\n",
        "    \"Awful acting and horrible plot\",\n",
        "    \"Completely waste of time\",\n",
        "    \"Really bad film I hated it\",\n",
        "    \"Terrible story and poor acting\",\n",
        "    \"This movie was awful and disappointing\",\n",
        "    \"Bad film with horrible performance\",\n",
        "    \"Worst acting I have ever seen\"\n",
        "]\n",
        "\n",
        "labels = np.array([1, 1, 1, 1, 1, 1, 1, 1, 1, 1,  # Positive\n",
        "                   0, 0, 0, 0, 0, 0, 0, 0, 0, 0])  # Negative\n",
        "\n",
        "print(f\"Total samples: {len(texts)}\")\n",
        "print(f\"Sample text: '{texts[0]}' -> Label: {labels[0]}\")\n"
      ],
      "metadata": {
        "colab": {
          "base_uri": "https://localhost:8080/"
        },
        "id": "lIGzXLXxXrdh",
        "outputId": "b65f99ba-ce55-413a-cc6e-8dd104307821"
      },
      "execution_count": 24,
      "outputs": [
        {
          "output_type": "stream",
          "name": "stdout",
          "text": [
            "Total samples: 20\n",
            "Sample text: 'This movie was excellent and amazing' -> Label: 1\n"
          ]
        }
      ]
    },
    {
      "cell_type": "markdown",
      "source": [
        "# ============================================\n",
        "# **Text Preprocessing**\n",
        "# ============================================\n",
        "## Tokenization: Converting text to sequences of integers\n",
        "## Each word gets a unique integer ID"
      ],
      "metadata": {
        "id": "oxaKpUI8XvXn"
      }
    },
    {
      "cell_type": "code",
      "source": [
        "vocab_size = 100  # Maximum number of words to keep\n",
        "max_length = 10   # Maximum length of each sequence\n",
        "\n",
        "# Create and fit tokenizer\n",
        "tokenizer = Tokenizer(num_words=vocab_size, oov_token=\"<OOV>\")\n",
        "tokenizer.fit_on_texts(texts)\n",
        "\n",
        "# Convert texts to sequences\n",
        "sequences = tokenizer.texts_to_sequences(texts)\n",
        "\n",
        "# Pad sequences to same length\n",
        "X = pad_sequences(sequences, maxlen=max_length, padding='post')\n",
        "\n",
        "print(f\"Vocabulary size: {len(tokenizer.word_index)}\")\n",
        "print(f\"Sample sequence: {sequences[0]}\")\n",
        "print(f\"Padded sequence shape: {X.shape}\")\n"
      ],
      "metadata": {
        "colab": {
          "base_uri": "https://localhost:8080/"
        },
        "id": "iQVx5s-NX9PU",
        "outputId": "ff6acd4d-c216-420f-b9dc-a1c85898651e"
      },
      "execution_count": 25,
      "outputs": [
        {
          "output_type": "stream",
          "name": "stdout",
          "text": [
            "Vocabulary size: 50\n",
            "Sample sequence: [3, 4, 8, 12, 2, 13]\n",
            "Padded sequence shape: (20, 10)\n"
          ]
        }
      ]
    },
    {
      "cell_type": "markdown",
      "source": [
        "# ============================================\n",
        "#Build RNN Model\n",
        "# ============================================\n",
        "## Creating a simple RNN architecture:\n",
        "## 1. Embedding layer: Converts words to dense vectors\n",
        "## 2. SimpleRNN layer: Processes sequences\n",
        "## 3. Dense layer: Output layer for binary classification"
      ],
      "metadata": {
        "id": "F7Rzmet9YCb1"
      }
    },
    {
      "cell_type": "code",
      "source": [
        "embedding_dim = 8   # Reduced to prevent overfitting\n",
        "rnn_units = 16      # Reduced units for simpler model\n",
        "\n",
        "model = Sequential([\n",
        "    Embedding(vocab_size, embedding_dim),\n",
        "    SimpleRNN(rnn_units, return_sequences=False, dropout=0.2, recurrent_dropout=0.2),\n",
        "    Dense(1, activation='sigmoid')  # Binary classification\n",
        "])\n",
        "\n",
        "# Build the model by specifying input shape\n",
        "model.build(input_shape=(None, max_length))\n",
        "\n",
        "model.compile(\n",
        "    optimizer='adam',\n",
        "    loss='binary_crossentropy',\n",
        "    metrics=['accuracy']\n",
        ")\n",
        "\n",
        "model.summary()"
      ],
      "metadata": {
        "colab": {
          "base_uri": "https://localhost:8080/",
          "height": 225
        },
        "id": "_7CvD-O8YCGb",
        "outputId": "b457ecc0-f417-4349-c76e-5dd8279ed68c"
      },
      "execution_count": 26,
      "outputs": [
        {
          "output_type": "display_data",
          "data": {
            "text/plain": [
              "\u001b[1mModel: \"sequential_5\"\u001b[0m\n"
            ],
            "text/html": [
              "<pre style=\"white-space:pre;overflow-x:auto;line-height:normal;font-family:Menlo,'DejaVu Sans Mono',consolas,'Courier New',monospace\"><span style=\"font-weight: bold\">Model: \"sequential_5\"</span>\n",
              "</pre>\n"
            ]
          },
          "metadata": {}
        },
        {
          "output_type": "display_data",
          "data": {
            "text/plain": [
              "┏━━━━━━━━━━━━━━━━━━━━━━━━━━━━━━━━━┳━━━━━━━━━━━━━━━━━━━━━━━━┳━━━━━━━━━━━━━━━┓\n",
              "┃\u001b[1m \u001b[0m\u001b[1mLayer (type)                   \u001b[0m\u001b[1m \u001b[0m┃\u001b[1m \u001b[0m\u001b[1mOutput Shape          \u001b[0m\u001b[1m \u001b[0m┃\u001b[1m \u001b[0m\u001b[1m      Param #\u001b[0m\u001b[1m \u001b[0m┃\n",
              "┡━━━━━━━━━━━━━━━━━━━━━━━━━━━━━━━━━╇━━━━━━━━━━━━━━━━━━━━━━━━╇━━━━━━━━━━━━━━━┩\n",
              "│ embedding_5 (\u001b[38;5;33mEmbedding\u001b[0m)         │ (\u001b[38;5;45mNone\u001b[0m, \u001b[38;5;34m10\u001b[0m, \u001b[38;5;34m8\u001b[0m)          │           \u001b[38;5;34m800\u001b[0m │\n",
              "├─────────────────────────────────┼────────────────────────┼───────────────┤\n",
              "│ simple_rnn_5 (\u001b[38;5;33mSimpleRNN\u001b[0m)        │ (\u001b[38;5;45mNone\u001b[0m, \u001b[38;5;34m16\u001b[0m)             │           \u001b[38;5;34m400\u001b[0m │\n",
              "├─────────────────────────────────┼────────────────────────┼───────────────┤\n",
              "│ dense_5 (\u001b[38;5;33mDense\u001b[0m)                 │ (\u001b[38;5;45mNone\u001b[0m, \u001b[38;5;34m1\u001b[0m)              │            \u001b[38;5;34m17\u001b[0m │\n",
              "└─────────────────────────────────┴────────────────────────┴───────────────┘\n"
            ],
            "text/html": [
              "<pre style=\"white-space:pre;overflow-x:auto;line-height:normal;font-family:Menlo,'DejaVu Sans Mono',consolas,'Courier New',monospace\">┏━━━━━━━━━━━━━━━━━━━━━━━━━━━━━━━━━┳━━━━━━━━━━━━━━━━━━━━━━━━┳━━━━━━━━━━━━━━━┓\n",
              "┃<span style=\"font-weight: bold\"> Layer (type)                    </span>┃<span style=\"font-weight: bold\"> Output Shape           </span>┃<span style=\"font-weight: bold\">       Param # </span>┃\n",
              "┡━━━━━━━━━━━━━━━━━━━━━━━━━━━━━━━━━╇━━━━━━━━━━━━━━━━━━━━━━━━╇━━━━━━━━━━━━━━━┩\n",
              "│ embedding_5 (<span style=\"color: #0087ff; text-decoration-color: #0087ff\">Embedding</span>)         │ (<span style=\"color: #00d7ff; text-decoration-color: #00d7ff\">None</span>, <span style=\"color: #00af00; text-decoration-color: #00af00\">10</span>, <span style=\"color: #00af00; text-decoration-color: #00af00\">8</span>)          │           <span style=\"color: #00af00; text-decoration-color: #00af00\">800</span> │\n",
              "├─────────────────────────────────┼────────────────────────┼───────────────┤\n",
              "│ simple_rnn_5 (<span style=\"color: #0087ff; text-decoration-color: #0087ff\">SimpleRNN</span>)        │ (<span style=\"color: #00d7ff; text-decoration-color: #00d7ff\">None</span>, <span style=\"color: #00af00; text-decoration-color: #00af00\">16</span>)             │           <span style=\"color: #00af00; text-decoration-color: #00af00\">400</span> │\n",
              "├─────────────────────────────────┼────────────────────────┼───────────────┤\n",
              "│ dense_5 (<span style=\"color: #0087ff; text-decoration-color: #0087ff\">Dense</span>)                 │ (<span style=\"color: #00d7ff; text-decoration-color: #00d7ff\">None</span>, <span style=\"color: #00af00; text-decoration-color: #00af00\">1</span>)              │            <span style=\"color: #00af00; text-decoration-color: #00af00\">17</span> │\n",
              "└─────────────────────────────────┴────────────────────────┴───────────────┘\n",
              "</pre>\n"
            ]
          },
          "metadata": {}
        },
        {
          "output_type": "display_data",
          "data": {
            "text/plain": [
              "\u001b[1m Total params: \u001b[0m\u001b[38;5;34m1,217\u001b[0m (4.75 KB)\n"
            ],
            "text/html": [
              "<pre style=\"white-space:pre;overflow-x:auto;line-height:normal;font-family:Menlo,'DejaVu Sans Mono',consolas,'Courier New',monospace\"><span style=\"font-weight: bold\"> Total params: </span><span style=\"color: #00af00; text-decoration-color: #00af00\">1,217</span> (4.75 KB)\n",
              "</pre>\n"
            ]
          },
          "metadata": {}
        },
        {
          "output_type": "display_data",
          "data": {
            "text/plain": [
              "\u001b[1m Trainable params: \u001b[0m\u001b[38;5;34m1,217\u001b[0m (4.75 KB)\n"
            ],
            "text/html": [
              "<pre style=\"white-space:pre;overflow-x:auto;line-height:normal;font-family:Menlo,'DejaVu Sans Mono',consolas,'Courier New',monospace\"><span style=\"font-weight: bold\"> Trainable params: </span><span style=\"color: #00af00; text-decoration-color: #00af00\">1,217</span> (4.75 KB)\n",
              "</pre>\n"
            ]
          },
          "metadata": {}
        },
        {
          "output_type": "display_data",
          "data": {
            "text/plain": [
              "\u001b[1m Non-trainable params: \u001b[0m\u001b[38;5;34m0\u001b[0m (0.00 B)\n"
            ],
            "text/html": [
              "<pre style=\"white-space:pre;overflow-x:auto;line-height:normal;font-family:Menlo,'DejaVu Sans Mono',consolas,'Courier New',monospace\"><span style=\"font-weight: bold\"> Non-trainable params: </span><span style=\"color: #00af00; text-decoration-color: #00af00\">0</span> (0.00 B)\n",
              "</pre>\n"
            ]
          },
          "metadata": {}
        }
      ]
    },
    {
      "cell_type": "markdown",
      "source": [
        "# ============================================\n",
        "# Train the Model\n",
        "# ============================================\n",
        "## Training the RNN on our sentiment data\n",
        "## The model learns to associate word patterns with sentiments"
      ],
      "metadata": {
        "id": "s7nLNOe8YUnx"
      }
    },
    {
      "cell_type": "code",
      "source": [
        "history = model.fit(\n",
        "    X, labels,\n",
        "    epochs=100,  # More epochs for better learning\n",
        "    batch_size=4,\n",
        "    validation_split=0.2,\n",
        "    verbose=1\n",
        ")\n",
        "\n",
        "print(\"\\nTraining completed!\")"
      ],
      "metadata": {
        "colab": {
          "base_uri": "https://localhost:8080/"
        },
        "id": "VOwcU_FAYdnZ",
        "outputId": "50391a64-f761-467b-99f6-05df4f60aefb"
      },
      "execution_count": 27,
      "outputs": [
        {
          "output_type": "stream",
          "name": "stdout",
          "text": [
            "Epoch 1/100\n",
            "\u001b[1m4/4\u001b[0m \u001b[32m━━━━━━━━━━━━━━━━━━━━\u001b[0m\u001b[37m\u001b[0m \u001b[1m4s\u001b[0m 187ms/step - accuracy: 0.4250 - loss: 0.7479 - val_accuracy: 0.0000e+00 - val_loss: 0.7309\n",
            "Epoch 2/100\n",
            "\u001b[1m4/4\u001b[0m \u001b[32m━━━━━━━━━━━━━━━━━━━━\u001b[0m\u001b[37m\u001b[0m \u001b[1m0s\u001b[0m 18ms/step - accuracy: 0.6000 - loss: 0.7021 - val_accuracy: 0.0000e+00 - val_loss: 0.7589\n",
            "Epoch 3/100\n",
            "\u001b[1m4/4\u001b[0m \u001b[32m━━━━━━━━━━━━━━━━━━━━\u001b[0m\u001b[37m\u001b[0m \u001b[1m0s\u001b[0m 34ms/step - accuracy: 0.6333 - loss: 0.6579 - val_accuracy: 0.0000e+00 - val_loss: 0.7824\n",
            "Epoch 4/100\n",
            "\u001b[1m4/4\u001b[0m \u001b[32m━━━━━━━━━━━━━━━━━━━━\u001b[0m\u001b[37m\u001b[0m \u001b[1m0s\u001b[0m 20ms/step - accuracy: 0.3417 - loss: 0.7573 - val_accuracy: 0.0000e+00 - val_loss: 0.7941\n",
            "Epoch 5/100\n",
            "\u001b[1m4/4\u001b[0m \u001b[32m━━━━━━━━━━━━━━━━━━━━\u001b[0m\u001b[37m\u001b[0m \u001b[1m0s\u001b[0m 18ms/step - accuracy: 0.5500 - loss: 0.6499 - val_accuracy: 0.0000e+00 - val_loss: 0.8121\n",
            "Epoch 6/100\n",
            "\u001b[1m4/4\u001b[0m \u001b[32m━━━━━━━━━━━━━━━━━━━━\u001b[0m\u001b[37m\u001b[0m \u001b[1m0s\u001b[0m 18ms/step - accuracy: 0.5250 - loss: 0.6524 - val_accuracy: 0.0000e+00 - val_loss: 0.8315\n",
            "Epoch 7/100\n",
            "\u001b[1m4/4\u001b[0m \u001b[32m━━━━━━━━━━━━━━━━━━━━\u001b[0m\u001b[37m\u001b[0m \u001b[1m0s\u001b[0m 18ms/step - accuracy: 0.6083 - loss: 0.6715 - val_accuracy: 0.0000e+00 - val_loss: 0.8437\n",
            "Epoch 8/100\n",
            "\u001b[1m4/4\u001b[0m \u001b[32m━━━━━━━━━━━━━━━━━━━━\u001b[0m\u001b[37m\u001b[0m \u001b[1m0s\u001b[0m 19ms/step - accuracy: 0.5917 - loss: 0.7096 - val_accuracy: 0.0000e+00 - val_loss: 0.8513\n",
            "Epoch 9/100\n",
            "\u001b[1m4/4\u001b[0m \u001b[32m━━━━━━━━━━━━━━━━━━━━\u001b[0m\u001b[37m\u001b[0m \u001b[1m0s\u001b[0m 18ms/step - accuracy: 0.6167 - loss: 0.6902 - val_accuracy: 0.0000e+00 - val_loss: 0.8574\n",
            "Epoch 10/100\n",
            "\u001b[1m4/4\u001b[0m \u001b[32m━━━━━━━━━━━━━━━━━━━━\u001b[0m\u001b[37m\u001b[0m \u001b[1m0s\u001b[0m 18ms/step - accuracy: 0.6833 - loss: 0.5898 - val_accuracy: 0.0000e+00 - val_loss: 0.8682\n",
            "Epoch 11/100\n",
            "\u001b[1m4/4\u001b[0m \u001b[32m━━━━━━━━━━━━━━━━━━━━\u001b[0m\u001b[37m\u001b[0m \u001b[1m0s\u001b[0m 18ms/step - accuracy: 0.6333 - loss: 0.6663 - val_accuracy: 0.0000e+00 - val_loss: 0.8765\n",
            "Epoch 12/100\n",
            "\u001b[1m4/4\u001b[0m \u001b[32m━━━━━━━━━━━━━━━━━━━━\u001b[0m\u001b[37m\u001b[0m \u001b[1m0s\u001b[0m 18ms/step - accuracy: 0.6667 - loss: 0.6320 - val_accuracy: 0.0000e+00 - val_loss: 0.8843\n",
            "Epoch 13/100\n",
            "\u001b[1m4/4\u001b[0m \u001b[32m━━━━━━━━━━━━━━━━━━━━\u001b[0m\u001b[37m\u001b[0m \u001b[1m0s\u001b[0m 18ms/step - accuracy: 0.8417 - loss: 0.6042 - val_accuracy: 0.0000e+00 - val_loss: 0.8916\n",
            "Epoch 14/100\n",
            "\u001b[1m4/4\u001b[0m \u001b[32m━━━━━━━━━━━━━━━━━━━━\u001b[0m\u001b[37m\u001b[0m \u001b[1m0s\u001b[0m 18ms/step - accuracy: 0.6167 - loss: 0.6226 - val_accuracy: 0.0000e+00 - val_loss: 0.8893\n",
            "Epoch 15/100\n",
            "\u001b[1m4/4\u001b[0m \u001b[32m━━━━━━━━━━━━━━━━━━━━\u001b[0m\u001b[37m\u001b[0m \u001b[1m0s\u001b[0m 18ms/step - accuracy: 0.9333 - loss: 0.5613 - val_accuracy: 0.0000e+00 - val_loss: 0.8961\n",
            "Epoch 16/100\n",
            "\u001b[1m4/4\u001b[0m \u001b[32m━━━━━━━━━━━━━━━━━━━━\u001b[0m\u001b[37m\u001b[0m \u001b[1m0s\u001b[0m 20ms/step - accuracy: 0.7000 - loss: 0.5799 - val_accuracy: 0.0000e+00 - val_loss: 0.9033\n",
            "Epoch 17/100\n",
            "\u001b[1m4/4\u001b[0m \u001b[32m━━━━━━━━━━━━━━━━━━━━\u001b[0m\u001b[37m\u001b[0m \u001b[1m0s\u001b[0m 19ms/step - accuracy: 0.7917 - loss: 0.5718 - val_accuracy: 0.0000e+00 - val_loss: 0.9193\n",
            "Epoch 18/100\n",
            "\u001b[1m4/4\u001b[0m \u001b[32m━━━━━━━━━━━━━━━━━━━━\u001b[0m\u001b[37m\u001b[0m \u001b[1m0s\u001b[0m 20ms/step - accuracy: 0.6583 - loss: 0.6002 - val_accuracy: 0.0000e+00 - val_loss: 0.9260\n",
            "Epoch 19/100\n",
            "\u001b[1m4/4\u001b[0m \u001b[32m━━━━━━━━━━━━━━━━━━━━\u001b[0m\u001b[37m\u001b[0m \u001b[1m0s\u001b[0m 18ms/step - accuracy: 0.7500 - loss: 0.5545 - val_accuracy: 0.0000e+00 - val_loss: 0.9355\n",
            "Epoch 20/100\n",
            "\u001b[1m4/4\u001b[0m \u001b[32m━━━━━━━━━━━━━━━━━━━━\u001b[0m\u001b[37m\u001b[0m \u001b[1m0s\u001b[0m 18ms/step - accuracy: 0.8167 - loss: 0.5951 - val_accuracy: 0.0000e+00 - val_loss: 0.9417\n",
            "Epoch 21/100\n",
            "\u001b[1m4/4\u001b[0m \u001b[32m━━━━━━━━━━━━━━━━━━━━\u001b[0m\u001b[37m\u001b[0m \u001b[1m0s\u001b[0m 19ms/step - accuracy: 0.8167 - loss: 0.4976 - val_accuracy: 0.0000e+00 - val_loss: 0.9360\n",
            "Epoch 22/100\n",
            "\u001b[1m4/4\u001b[0m \u001b[32m━━━━━━━━━━━━━━━━━━━━\u001b[0m\u001b[37m\u001b[0m \u001b[1m0s\u001b[0m 18ms/step - accuracy: 0.8833 - loss: 0.6389 - val_accuracy: 0.0000e+00 - val_loss: 0.9277\n",
            "Epoch 23/100\n",
            "\u001b[1m4/4\u001b[0m \u001b[32m━━━━━━━━━━━━━━━━━━━━\u001b[0m\u001b[37m\u001b[0m \u001b[1m0s\u001b[0m 19ms/step - accuracy: 0.8000 - loss: 0.5212 - val_accuracy: 0.0000e+00 - val_loss: 0.9305\n",
            "Epoch 24/100\n",
            "\u001b[1m4/4\u001b[0m \u001b[32m━━━━━━━━━━━━━━━━━━━━\u001b[0m\u001b[37m\u001b[0m \u001b[1m0s\u001b[0m 19ms/step - accuracy: 0.7917 - loss: 0.4713 - val_accuracy: 0.0000e+00 - val_loss: 0.9218\n",
            "Epoch 25/100\n",
            "\u001b[1m4/4\u001b[0m \u001b[32m━━━━━━━━━━━━━━━━━━━━\u001b[0m\u001b[37m\u001b[0m \u001b[1m0s\u001b[0m 19ms/step - accuracy: 0.9083 - loss: 0.4859 - val_accuracy: 0.0000e+00 - val_loss: 0.9391\n",
            "Epoch 26/100\n",
            "\u001b[1m4/4\u001b[0m \u001b[32m━━━━━━━━━━━━━━━━━━━━\u001b[0m\u001b[37m\u001b[0m \u001b[1m0s\u001b[0m 19ms/step - accuracy: 0.8833 - loss: 0.4695 - val_accuracy: 0.0000e+00 - val_loss: 0.9715\n",
            "Epoch 27/100\n",
            "\u001b[1m4/4\u001b[0m \u001b[32m━━━━━━━━━━━━━━━━━━━━\u001b[0m\u001b[37m\u001b[0m \u001b[1m0s\u001b[0m 18ms/step - accuracy: 1.0000 - loss: 0.2904 - val_accuracy: 0.0000e+00 - val_loss: 1.0051\n",
            "Epoch 28/100\n",
            "\u001b[1m4/4\u001b[0m \u001b[32m━━━━━━━━━━━━━━━━━━━━\u001b[0m\u001b[37m\u001b[0m \u001b[1m0s\u001b[0m 20ms/step - accuracy: 0.8833 - loss: 0.4068 - val_accuracy: 0.0000e+00 - val_loss: 1.0316\n",
            "Epoch 29/100\n",
            "\u001b[1m4/4\u001b[0m \u001b[32m━━━━━━━━━━━━━━━━━━━━\u001b[0m\u001b[37m\u001b[0m \u001b[1m0s\u001b[0m 18ms/step - accuracy: 0.9333 - loss: 0.3571 - val_accuracy: 0.0000e+00 - val_loss: 1.0575\n",
            "Epoch 30/100\n",
            "\u001b[1m4/4\u001b[0m \u001b[32m━━━━━━━━━━━━━━━━━━━━\u001b[0m\u001b[37m\u001b[0m \u001b[1m0s\u001b[0m 18ms/step - accuracy: 0.8167 - loss: 0.4243 - val_accuracy: 0.0000e+00 - val_loss: 1.0763\n",
            "Epoch 31/100\n",
            "\u001b[1m4/4\u001b[0m \u001b[32m━━━━━━━━━━━━━━━━━━━━\u001b[0m\u001b[37m\u001b[0m \u001b[1m0s\u001b[0m 18ms/step - accuracy: 0.9583 - loss: 0.2920 - val_accuracy: 0.0000e+00 - val_loss: 1.1078\n",
            "Epoch 32/100\n",
            "\u001b[1m4/4\u001b[0m \u001b[32m━━━━━━━━━━━━━━━━━━━━\u001b[0m\u001b[37m\u001b[0m \u001b[1m0s\u001b[0m 27ms/step - accuracy: 0.7333 - loss: 0.3997 - val_accuracy: 0.0000e+00 - val_loss: 1.1392\n",
            "Epoch 33/100\n",
            "\u001b[1m4/4\u001b[0m \u001b[32m━━━━━━━━━━━━━━━━━━━━\u001b[0m\u001b[37m\u001b[0m \u001b[1m0s\u001b[0m 31ms/step - accuracy: 1.0000 - loss: 0.3970 - val_accuracy: 0.0000e+00 - val_loss: 1.1562\n",
            "Epoch 34/100\n",
            "\u001b[1m4/4\u001b[0m \u001b[32m━━━━━━━━━━━━━━━━━━━━\u001b[0m\u001b[37m\u001b[0m \u001b[1m0s\u001b[0m 26ms/step - accuracy: 1.0000 - loss: 0.3379 - val_accuracy: 0.0000e+00 - val_loss: 1.1007\n",
            "Epoch 35/100\n",
            "\u001b[1m4/4\u001b[0m \u001b[32m━━━━━━━━━━━━━━━━━━━━\u001b[0m\u001b[37m\u001b[0m \u001b[1m0s\u001b[0m 39ms/step - accuracy: 0.8167 - loss: 0.3349 - val_accuracy: 0.0000e+00 - val_loss: 1.0326\n",
            "Epoch 36/100\n",
            "\u001b[1m4/4\u001b[0m \u001b[32m━━━━━━━━━━━━━━━━━━━━\u001b[0m\u001b[37m\u001b[0m \u001b[1m0s\u001b[0m 25ms/step - accuracy: 1.0000 - loss: 0.2403 - val_accuracy: 0.2500 - val_loss: 1.0103\n",
            "Epoch 37/100\n",
            "\u001b[1m4/4\u001b[0m \u001b[32m━━━━━━━━━━━━━━━━━━━━\u001b[0m\u001b[37m\u001b[0m \u001b[1m0s\u001b[0m 27ms/step - accuracy: 0.8833 - loss: 0.2180 - val_accuracy: 0.2500 - val_loss: 0.9894\n",
            "Epoch 38/100\n",
            "\u001b[1m4/4\u001b[0m \u001b[32m━━━━━━━━━━━━━━━━━━━━\u001b[0m\u001b[37m\u001b[0m \u001b[1m0s\u001b[0m 25ms/step - accuracy: 1.0000 - loss: 0.2404 - val_accuracy: 0.2500 - val_loss: 0.9664\n",
            "Epoch 39/100\n",
            "\u001b[1m4/4\u001b[0m \u001b[32m━━━━━━━━━━━━━━━━━━━━\u001b[0m\u001b[37m\u001b[0m \u001b[1m0s\u001b[0m 38ms/step - accuracy: 1.0000 - loss: 0.2136 - val_accuracy: 0.2500 - val_loss: 0.9758\n",
            "Epoch 40/100\n",
            "\u001b[1m4/4\u001b[0m \u001b[32m━━━━━━━━━━━━━━━━━━━━\u001b[0m\u001b[37m\u001b[0m \u001b[1m0s\u001b[0m 43ms/step - accuracy: 1.0000 - loss: 0.2601 - val_accuracy: 0.2500 - val_loss: 1.0031\n",
            "Epoch 41/100\n",
            "\u001b[1m4/4\u001b[0m \u001b[32m━━━━━━━━━━━━━━━━━━━━\u001b[0m\u001b[37m\u001b[0m \u001b[1m0s\u001b[0m 31ms/step - accuracy: 1.0000 - loss: 0.1808 - val_accuracy: 0.2500 - val_loss: 1.0176\n",
            "Epoch 42/100\n",
            "\u001b[1m4/4\u001b[0m \u001b[32m━━━━━━━━━━━━━━━━━━━━\u001b[0m\u001b[37m\u001b[0m \u001b[1m0s\u001b[0m 26ms/step - accuracy: 1.0000 - loss: 0.1932 - val_accuracy: 0.2500 - val_loss: 1.0209\n",
            "Epoch 43/100\n",
            "\u001b[1m4/4\u001b[0m \u001b[32m━━━━━━━━━━━━━━━━━━━━\u001b[0m\u001b[37m\u001b[0m \u001b[1m0s\u001b[0m 19ms/step - accuracy: 0.8417 - loss: 0.3052 - val_accuracy: 0.2500 - val_loss: 0.9883\n",
            "Epoch 44/100\n",
            "\u001b[1m4/4\u001b[0m \u001b[32m━━━━━━━━━━━━━━━━━━━━\u001b[0m\u001b[37m\u001b[0m \u001b[1m0s\u001b[0m 18ms/step - accuracy: 0.8583 - loss: 0.2247 - val_accuracy: 0.7500 - val_loss: 0.9570\n",
            "Epoch 45/100\n",
            "\u001b[1m4/4\u001b[0m \u001b[32m━━━━━━━━━━━━━━━━━━━━\u001b[0m\u001b[37m\u001b[0m \u001b[1m0s\u001b[0m 18ms/step - accuracy: 0.8917 - loss: 0.2154 - val_accuracy: 0.2500 - val_loss: 1.0235\n",
            "Epoch 46/100\n",
            "\u001b[1m4/4\u001b[0m \u001b[32m━━━━━━━━━━━━━━━━━━━━\u001b[0m\u001b[37m\u001b[0m \u001b[1m0s\u001b[0m 19ms/step - accuracy: 1.0000 - loss: 0.1826 - val_accuracy: 0.2500 - val_loss: 1.0838\n",
            "Epoch 47/100\n",
            "\u001b[1m4/4\u001b[0m \u001b[32m━━━━━━━━━━━━━━━━━━━━\u001b[0m\u001b[37m\u001b[0m \u001b[1m0s\u001b[0m 18ms/step - accuracy: 1.0000 - loss: 0.1600 - val_accuracy: 0.2500 - val_loss: 1.1242\n",
            "Epoch 48/100\n",
            "\u001b[1m4/4\u001b[0m \u001b[32m━━━━━━━━━━━━━━━━━━━━\u001b[0m\u001b[37m\u001b[0m \u001b[1m0s\u001b[0m 19ms/step - accuracy: 0.8833 - loss: 0.1624 - val_accuracy: 0.2500 - val_loss: 1.1503\n",
            "Epoch 49/100\n",
            "\u001b[1m4/4\u001b[0m \u001b[32m━━━━━━━━━━━━━━━━━━━━\u001b[0m\u001b[37m\u001b[0m \u001b[1m0s\u001b[0m 18ms/step - accuracy: 1.0000 - loss: 0.0766 - val_accuracy: 0.2500 - val_loss: 1.1653\n",
            "Epoch 50/100\n",
            "\u001b[1m4/4\u001b[0m \u001b[32m━━━━━━━━━━━━━━━━━━━━\u001b[0m\u001b[37m\u001b[0m \u001b[1m0s\u001b[0m 18ms/step - accuracy: 0.8000 - loss: 0.3469 - val_accuracy: 0.2500 - val_loss: 1.1892\n",
            "Epoch 51/100\n",
            "\u001b[1m4/4\u001b[0m \u001b[32m━━━━━━━━━━━━━━━━━━━━\u001b[0m\u001b[37m\u001b[0m \u001b[1m0s\u001b[0m 19ms/step - accuracy: 1.0000 - loss: 0.1636 - val_accuracy: 0.2500 - val_loss: 1.2302\n",
            "Epoch 52/100\n",
            "\u001b[1m4/4\u001b[0m \u001b[32m━━━━━━━━━━━━━━━━━━━━\u001b[0m\u001b[37m\u001b[0m \u001b[1m0s\u001b[0m 18ms/step - accuracy: 1.0000 - loss: 0.0912 - val_accuracy: 0.2500 - val_loss: 1.2597\n",
            "Epoch 53/100\n",
            "\u001b[1m4/4\u001b[0m \u001b[32m━━━━━━━━━━━━━━━━━━━━\u001b[0m\u001b[37m\u001b[0m \u001b[1m0s\u001b[0m 22ms/step - accuracy: 1.0000 - loss: 0.0921 - val_accuracy: 0.2500 - val_loss: 1.2590\n",
            "Epoch 54/100\n",
            "\u001b[1m4/4\u001b[0m \u001b[32m━━━━━━━━━━━━━━━━━━━━\u001b[0m\u001b[37m\u001b[0m \u001b[1m0s\u001b[0m 18ms/step - accuracy: 1.0000 - loss: 0.1198 - val_accuracy: 0.2500 - val_loss: 1.2760\n",
            "Epoch 55/100\n",
            "\u001b[1m4/4\u001b[0m \u001b[32m━━━━━━━━━━━━━━━━━━━━\u001b[0m\u001b[37m\u001b[0m \u001b[1m0s\u001b[0m 23ms/step - accuracy: 1.0000 - loss: 0.0781 - val_accuracy: 0.2500 - val_loss: 1.2959\n",
            "Epoch 56/100\n",
            "\u001b[1m4/4\u001b[0m \u001b[32m━━━━━━━━━━━━━━━━━━━━\u001b[0m\u001b[37m\u001b[0m \u001b[1m0s\u001b[0m 18ms/step - accuracy: 1.0000 - loss: 0.0502 - val_accuracy: 0.2500 - val_loss: 1.2968\n",
            "Epoch 57/100\n",
            "\u001b[1m4/4\u001b[0m \u001b[32m━━━━━━━━━━━━━━━━━━━━\u001b[0m\u001b[37m\u001b[0m \u001b[1m0s\u001b[0m 18ms/step - accuracy: 1.0000 - loss: 0.1077 - val_accuracy: 0.2500 - val_loss: 1.2549\n",
            "Epoch 58/100\n",
            "\u001b[1m4/4\u001b[0m \u001b[32m━━━━━━━━━━━━━━━━━━━━\u001b[0m\u001b[37m\u001b[0m \u001b[1m0s\u001b[0m 19ms/step - accuracy: 0.9583 - loss: 0.1641 - val_accuracy: 0.7500 - val_loss: 1.1948\n",
            "Epoch 59/100\n",
            "\u001b[1m4/4\u001b[0m \u001b[32m━━━━━━━━━━━━━━━━━━━━\u001b[0m\u001b[37m\u001b[0m \u001b[1m0s\u001b[0m 18ms/step - accuracy: 1.0000 - loss: 0.1403 - val_accuracy: 0.7500 - val_loss: 1.1854\n",
            "Epoch 60/100\n",
            "\u001b[1m4/4\u001b[0m \u001b[32m━━━━━━━━━━━━━━━━━━━━\u001b[0m\u001b[37m\u001b[0m \u001b[1m0s\u001b[0m 19ms/step - accuracy: 1.0000 - loss: 0.0761 - val_accuracy: 0.7500 - val_loss: 1.1956\n",
            "Epoch 61/100\n",
            "\u001b[1m4/4\u001b[0m \u001b[32m━━━━━━━━━━━━━━━━━━━━\u001b[0m\u001b[37m\u001b[0m \u001b[1m0s\u001b[0m 20ms/step - accuracy: 1.0000 - loss: 0.0506 - val_accuracy: 0.7500 - val_loss: 1.1952\n",
            "Epoch 62/100\n",
            "\u001b[1m4/4\u001b[0m \u001b[32m━━━━━━━━━━━━━━━━━━━━\u001b[0m\u001b[37m\u001b[0m \u001b[1m0s\u001b[0m 18ms/step - accuracy: 1.0000 - loss: 0.0566 - val_accuracy: 0.7500 - val_loss: 1.1765\n",
            "Epoch 63/100\n",
            "\u001b[1m4/4\u001b[0m \u001b[32m━━━━━━━━━━━━━━━━━━━━\u001b[0m\u001b[37m\u001b[0m \u001b[1m0s\u001b[0m 18ms/step - accuracy: 0.9750 - loss: 0.1181 - val_accuracy: 0.7500 - val_loss: 1.1838\n",
            "Epoch 64/100\n",
            "\u001b[1m4/4\u001b[0m \u001b[32m━━━━━━━━━━━━━━━━━━━━\u001b[0m\u001b[37m\u001b[0m \u001b[1m0s\u001b[0m 19ms/step - accuracy: 1.0000 - loss: 0.0868 - val_accuracy: 0.7500 - val_loss: 1.1853\n",
            "Epoch 65/100\n",
            "\u001b[1m4/4\u001b[0m \u001b[32m━━━━━━━━━━━━━━━━━━━━\u001b[0m\u001b[37m\u001b[0m \u001b[1m0s\u001b[0m 19ms/step - accuracy: 1.0000 - loss: 0.0843 - val_accuracy: 0.7500 - val_loss: 1.1838\n",
            "Epoch 66/100\n",
            "\u001b[1m4/4\u001b[0m \u001b[32m━━━━━━━━━━━━━━━━━━━━\u001b[0m\u001b[37m\u001b[0m \u001b[1m0s\u001b[0m 18ms/step - accuracy: 1.0000 - loss: 0.0417 - val_accuracy: 0.7500 - val_loss: 1.1745\n",
            "Epoch 67/100\n",
            "\u001b[1m4/4\u001b[0m \u001b[32m━━━━━━━━━━━━━━━━━━━━\u001b[0m\u001b[37m\u001b[0m \u001b[1m0s\u001b[0m 19ms/step - accuracy: 0.9750 - loss: 0.0886 - val_accuracy: 0.7500 - val_loss: 1.1485\n",
            "Epoch 68/100\n",
            "\u001b[1m4/4\u001b[0m \u001b[32m━━━━━━━━━━━━━━━━━━━━\u001b[0m\u001b[37m\u001b[0m \u001b[1m0s\u001b[0m 21ms/step - accuracy: 0.9333 - loss: 0.3191 - val_accuracy: 0.7500 - val_loss: 1.1610\n",
            "Epoch 69/100\n",
            "\u001b[1m4/4\u001b[0m \u001b[32m━━━━━━━━━━━━━━━━━━━━\u001b[0m\u001b[37m\u001b[0m \u001b[1m0s\u001b[0m 19ms/step - accuracy: 1.0000 - loss: 0.0659 - val_accuracy: 0.7500 - val_loss: 1.1814\n",
            "Epoch 70/100\n",
            "\u001b[1m4/4\u001b[0m \u001b[32m━━━━━━━━━━━━━━━━━━━━\u001b[0m\u001b[37m\u001b[0m \u001b[1m0s\u001b[0m 20ms/step - accuracy: 1.0000 - loss: 0.1131 - val_accuracy: 0.7500 - val_loss: 1.2113\n",
            "Epoch 71/100\n",
            "\u001b[1m4/4\u001b[0m \u001b[32m━━━━━━━━━━━━━━━━━━━━\u001b[0m\u001b[37m\u001b[0m \u001b[1m0s\u001b[0m 19ms/step - accuracy: 0.9750 - loss: 0.1068 - val_accuracy: 0.7500 - val_loss: 1.2356\n",
            "Epoch 72/100\n",
            "\u001b[1m4/4\u001b[0m \u001b[32m━━━━━━━━━━━━━━━━━━━━\u001b[0m\u001b[37m\u001b[0m \u001b[1m0s\u001b[0m 18ms/step - accuracy: 1.0000 - loss: 0.0377 - val_accuracy: 0.7500 - val_loss: 1.2493\n",
            "Epoch 73/100\n",
            "\u001b[1m4/4\u001b[0m \u001b[32m━━━━━━━━━━━━━━━━━━━━\u001b[0m\u001b[37m\u001b[0m \u001b[1m0s\u001b[0m 18ms/step - accuracy: 1.0000 - loss: 0.0837 - val_accuracy: 0.7500 - val_loss: 1.2522\n",
            "Epoch 74/100\n",
            "\u001b[1m4/4\u001b[0m \u001b[32m━━━━━━━━━━━━━━━━━━━━\u001b[0m\u001b[37m\u001b[0m \u001b[1m0s\u001b[0m 18ms/step - accuracy: 1.0000 - loss: 0.1620 - val_accuracy: 0.7500 - val_loss: 1.2270\n",
            "Epoch 75/100\n",
            "\u001b[1m4/4\u001b[0m \u001b[32m━━━━━━━━━━━━━━━━━━━━\u001b[0m\u001b[37m\u001b[0m \u001b[1m0s\u001b[0m 18ms/step - accuracy: 1.0000 - loss: 0.0599 - val_accuracy: 0.7500 - val_loss: 1.2016\n",
            "Epoch 76/100\n",
            "\u001b[1m4/4\u001b[0m \u001b[32m━━━━━━━━━━━━━━━━━━━━\u001b[0m\u001b[37m\u001b[0m \u001b[1m0s\u001b[0m 20ms/step - accuracy: 1.0000 - loss: 0.0738 - val_accuracy: 0.7500 - val_loss: 1.1677\n",
            "Epoch 77/100\n",
            "\u001b[1m4/4\u001b[0m \u001b[32m━━━━━━━━━━━━━━━━━━━━\u001b[0m\u001b[37m\u001b[0m \u001b[1m0s\u001b[0m 19ms/step - accuracy: 0.9750 - loss: 0.1077 - val_accuracy: 0.7500 - val_loss: 1.1812\n",
            "Epoch 78/100\n",
            "\u001b[1m4/4\u001b[0m \u001b[32m━━━━━━━━━━━━━━━━━━━━\u001b[0m\u001b[37m\u001b[0m \u001b[1m0s\u001b[0m 19ms/step - accuracy: 1.0000 - loss: 0.0746 - val_accuracy: 0.7500 - val_loss: 1.1957\n",
            "Epoch 79/100\n",
            "\u001b[1m4/4\u001b[0m \u001b[32m━━━━━━━━━━━━━━━━━━━━\u001b[0m\u001b[37m\u001b[0m \u001b[1m0s\u001b[0m 19ms/step - accuracy: 0.9333 - loss: 0.0822 - val_accuracy: 0.2500 - val_loss: 1.4214\n",
            "Epoch 80/100\n",
            "\u001b[1m4/4\u001b[0m \u001b[32m━━━━━━━━━━━━━━━━━━━━\u001b[0m\u001b[37m\u001b[0m \u001b[1m0s\u001b[0m 35ms/step - accuracy: 1.0000 - loss: 0.1308 - val_accuracy: 0.2500 - val_loss: 1.6826\n",
            "Epoch 81/100\n",
            "\u001b[1m4/4\u001b[0m \u001b[32m━━━━━━━━━━━━━━━━━━━━\u001b[0m\u001b[37m\u001b[0m \u001b[1m0s\u001b[0m 19ms/step - accuracy: 0.9333 - loss: 0.1766 - val_accuracy: 0.2500 - val_loss: 1.6640\n",
            "Epoch 82/100\n",
            "\u001b[1m4/4\u001b[0m \u001b[32m━━━━━━━━━━━━━━━━━━━━\u001b[0m\u001b[37m\u001b[0m \u001b[1m0s\u001b[0m 19ms/step - accuracy: 1.0000 - loss: 0.0446 - val_accuracy: 0.5000 - val_loss: 1.6252\n",
            "Epoch 83/100\n",
            "\u001b[1m4/4\u001b[0m \u001b[32m━━━━━━━━━━━━━━━━━━━━\u001b[0m\u001b[37m\u001b[0m \u001b[1m0s\u001b[0m 18ms/step - accuracy: 1.0000 - loss: 0.0397 - val_accuracy: 0.5000 - val_loss: 1.5785\n",
            "Epoch 84/100\n",
            "\u001b[1m4/4\u001b[0m \u001b[32m━━━━━━━━━━━━━━━━━━━━\u001b[0m\u001b[37m\u001b[0m \u001b[1m0s\u001b[0m 19ms/step - accuracy: 1.0000 - loss: 0.1441 - val_accuracy: 0.7500 - val_loss: 1.1587\n",
            "Epoch 85/100\n",
            "\u001b[1m4/4\u001b[0m \u001b[32m━━━━━━━━━━━━━━━━━━━━\u001b[0m\u001b[37m\u001b[0m \u001b[1m0s\u001b[0m 18ms/step - accuracy: 1.0000 - loss: 0.0266 - val_accuracy: 0.7500 - val_loss: 1.0133\n",
            "Epoch 86/100\n",
            "\u001b[1m4/4\u001b[0m \u001b[32m━━━━━━━━━━━━━━━━━━━━\u001b[0m\u001b[37m\u001b[0m \u001b[1m0s\u001b[0m 19ms/step - accuracy: 1.0000 - loss: 0.0351 - val_accuracy: 0.7500 - val_loss: 0.9646\n",
            "Epoch 87/100\n",
            "\u001b[1m4/4\u001b[0m \u001b[32m━━━━━━━━━━━━━━━━━━━━\u001b[0m\u001b[37m\u001b[0m \u001b[1m0s\u001b[0m 18ms/step - accuracy: 1.0000 - loss: 0.0355 - val_accuracy: 0.7500 - val_loss: 0.9440\n",
            "Epoch 88/100\n",
            "\u001b[1m4/4\u001b[0m \u001b[32m━━━━━━━━━━━━━━━━━━━━\u001b[0m\u001b[37m\u001b[0m \u001b[1m0s\u001b[0m 19ms/step - accuracy: 1.0000 - loss: 0.0473 - val_accuracy: 0.7500 - val_loss: 0.9352\n",
            "Epoch 89/100\n",
            "\u001b[1m4/4\u001b[0m \u001b[32m━━━━━━━━━━━━━━━━━━━━\u001b[0m\u001b[37m\u001b[0m \u001b[1m0s\u001b[0m 20ms/step - accuracy: 1.0000 - loss: 0.0528 - val_accuracy: 0.7500 - val_loss: 0.9280\n",
            "Epoch 90/100\n",
            "\u001b[1m4/4\u001b[0m \u001b[32m━━━━━━━━━━━━━━━━━━━━\u001b[0m\u001b[37m\u001b[0m \u001b[1m0s\u001b[0m 18ms/step - accuracy: 1.0000 - loss: 0.0430 - val_accuracy: 0.7500 - val_loss: 0.9228\n",
            "Epoch 91/100\n",
            "\u001b[1m4/4\u001b[0m \u001b[32m━━━━━━━━━━━━━━━━━━━━\u001b[0m\u001b[37m\u001b[0m \u001b[1m0s\u001b[0m 20ms/step - accuracy: 1.0000 - loss: 0.0639 - val_accuracy: 0.7500 - val_loss: 0.9101\n",
            "Epoch 92/100\n",
            "\u001b[1m4/4\u001b[0m \u001b[32m━━━━━━━━━━━━━━━━━━━━\u001b[0m\u001b[37m\u001b[0m \u001b[1m0s\u001b[0m 35ms/step - accuracy: 1.0000 - loss: 0.0571 - val_accuracy: 0.7500 - val_loss: 0.9014\n",
            "Epoch 93/100\n",
            "\u001b[1m4/4\u001b[0m \u001b[32m━━━━━━━━━━━━━━━━━━━━\u001b[0m\u001b[37m\u001b[0m \u001b[1m0s\u001b[0m 18ms/step - accuracy: 1.0000 - loss: 0.0419 - val_accuracy: 0.7500 - val_loss: 0.8978\n",
            "Epoch 94/100\n",
            "\u001b[1m4/4\u001b[0m \u001b[32m━━━━━━━━━━━━━━━━━━━━\u001b[0m\u001b[37m\u001b[0m \u001b[1m0s\u001b[0m 18ms/step - accuracy: 1.0000 - loss: 0.0476 - val_accuracy: 0.7500 - val_loss: 0.9125\n",
            "Epoch 95/100\n",
            "\u001b[1m4/4\u001b[0m \u001b[32m━━━━━━━━━━━━━━━━━━━━\u001b[0m\u001b[37m\u001b[0m \u001b[1m0s\u001b[0m 18ms/step - accuracy: 1.0000 - loss: 0.0801 - val_accuracy: 0.7500 - val_loss: 0.9462\n",
            "Epoch 96/100\n",
            "\u001b[1m4/4\u001b[0m \u001b[32m━━━━━━━━━━━━━━━━━━━━\u001b[0m\u001b[37m\u001b[0m \u001b[1m0s\u001b[0m 18ms/step - accuracy: 1.0000 - loss: 0.0396 - val_accuracy: 0.7500 - val_loss: 0.9736\n",
            "Epoch 97/100\n",
            "\u001b[1m4/4\u001b[0m \u001b[32m━━━━━━━━━━━━━━━━━━━━\u001b[0m\u001b[37m\u001b[0m \u001b[1m0s\u001b[0m 19ms/step - accuracy: 1.0000 - loss: 0.0298 - val_accuracy: 0.7500 - val_loss: 0.9941\n",
            "Epoch 98/100\n",
            "\u001b[1m4/4\u001b[0m \u001b[32m━━━━━━━━━━━━━━━━━━━━\u001b[0m\u001b[37m\u001b[0m \u001b[1m0s\u001b[0m 18ms/step - accuracy: 1.0000 - loss: 0.0679 - val_accuracy: 0.7500 - val_loss: 1.0119\n",
            "Epoch 99/100\n",
            "\u001b[1m4/4\u001b[0m \u001b[32m━━━━━━━━━━━━━━━━━━━━\u001b[0m\u001b[37m\u001b[0m \u001b[1m0s\u001b[0m 20ms/step - accuracy: 1.0000 - loss: 0.0485 - val_accuracy: 0.7500 - val_loss: 1.0441\n",
            "Epoch 100/100\n",
            "\u001b[1m4/4\u001b[0m \u001b[32m━━━━━━━━━━━━━━━━━━━━\u001b[0m\u001b[37m\u001b[0m \u001b[1m0s\u001b[0m 19ms/step - accuracy: 1.0000 - loss: 0.0843 - val_accuracy: 0.7500 - val_loss: 1.0738\n",
            "\n",
            "Training completed!\n"
          ]
        }
      ]
    },
    {
      "cell_type": "markdown",
      "source": [
        "# ============================================\n",
        "# Visualize Training History\n",
        "# ============================================\n",
        "## Plotting loss and accuracy curves to understand model performance"
      ],
      "metadata": {
        "id": "tWPA24EMYhwi"
      }
    },
    {
      "cell_type": "code",
      "source": [
        "plt.figure(figsize=(12, 4))\n",
        "\n",
        "# Plot accuracy\n",
        "plt.subplot(1, 2, 1)\n",
        "plt.plot(history.history['accuracy'], label='Training Accuracy')\n",
        "plt.plot(history.history['val_accuracy'], label='Validation Accuracy')\n",
        "plt.title('Model Accuracy')\n",
        "plt.xlabel('Epoch')\n",
        "plt.ylabel('Accuracy')\n",
        "plt.legend()\n",
        "plt.grid(True)\n",
        "\n",
        "# Plot loss\n",
        "plt.subplot(1, 2, 2)\n",
        "plt.plot(history.history['loss'], label='Training Loss')\n",
        "plt.plot(history.history['val_loss'], label='Validation Loss')\n",
        "plt.title('Model Loss')\n",
        "plt.xlabel('Epoch')\n",
        "plt.ylabel('Loss')\n",
        "plt.legend()\n",
        "plt.grid(True)\n",
        "\n",
        "plt.tight_layout()\n",
        "plt.show()\n"
      ],
      "metadata": {
        "colab": {
          "base_uri": "https://localhost:8080/",
          "height": 407
        },
        "id": "O2mt7OCkYheX",
        "outputId": "763f3f31-eaf8-49bb-e417-bdfe2e83c7f5"
      },
      "execution_count": 28,
      "outputs": [
        {
          "output_type": "display_data",
          "data": {
            "text/plain": [
              "<Figure size 1200x400 with 2 Axes>"
            ],
            "image/png": "[encoded data removed]"
          },
          "metadata": {}
        }
      ]
    },
    {
      "cell_type": "markdown",
      "source": [
        "# ============================================\n",
        "# Test Predictions\n",
        "# ============================================\n",
        "## Testing the trained model on new sentences"
      ],
      "metadata": {
        "id": "7HE0Ih6DYty5"
      }
    },
    {
      "cell_type": "code",
      "source": [
        "\n",
        "test_texts = [\n",
        "    \"This movie is wonderful and great\",\n",
        "    \"This film was bad\",\n",
        "    \"Amazing story and excellent performance\"\n",
        "]\n",
        "\n",
        "# Preprocess test data\n",
        "test_sequences = tokenizer.texts_to_sequences(test_texts)\n",
        "test_padded = pad_sequences(test_sequences, maxlen=max_length, padding='post')\n",
        "\n",
        "# Make predictions\n",
        "predictions = model.predict(test_padded)\n",
        "\n",
        "# Display results\n",
        "print(\"\\n\" + \"=\"*50)\n",
        "print(\"PREDICTIONS ON NEW DATA\")\n",
        "print(\"=\"*50)\n",
        "for text, pred in zip(test_texts, predictions):\n",
        "    sentiment = \"POSITIVE\" if pred[0] > 0.5 else \"NEGATIVE\"\n",
        "    confidence = pred[0] if pred[0] > 0.5 else 1 - pred[0]\n",
        "    print(f\"\\nText: '{text}'\")\n",
        "    print(f\"Sentiment: {sentiment} (confidence: {confidence:.2%})\")"
      ],
      "metadata": {
        "colab": {
          "base_uri": "https://localhost:8080/"
        },
        "id": "UvQW5bXfY2sy",
        "outputId": "f5f21197-e9db-43fd-ac6b-19693980c965"
      },
      "execution_count": 30,
      "outputs": [
        {
          "output_type": "stream",
          "name": "stdout",
          "text": [
            "\u001b[1m1/1\u001b[0m \u001b[32m━━━━━━━━━━━━━━━━━━━━\u001b[0m\u001b[37m\u001b[0m \u001b[1m0s\u001b[0m 28ms/step\n",
            "\n",
            "==================================================\n",
            "PREDICTIONS ON NEW DATA\n",
            "==================================================\n",
            "\n",
            "Text: 'This movie is wonderful and great'\n",
            "Sentiment: POSITIVE (confidence: 72.47%)\n",
            "\n",
            "Text: 'This film was bad'\n",
            "Sentiment: POSITIVE (confidence: 66.24%)\n",
            "\n",
            "Text: 'Amazing story and excellent performance'\n",
            "Sentiment: POSITIVE (confidence: 99.65%)\n"
          ]
        }
      ]
    },
    {
      "cell_type": "markdown",
      "source": [
        "# ============================================\n",
        "# CELL 8: Understanding RNN Internal State\n",
        "# ============================================\n",
        "## Visualizing how the RNN processes a sequence step by step"
      ],
      "metadata": {
        "id": "dvuniS7TZCcd"
      }
    },
    {
      "cell_type": "code",
      "source": [
        "# Get a sample for analysis\n",
        "sample_text = [\"This movie is great\"]\n",
        "sample_seq = tokenizer.texts_to_sequences(sample_text)\n",
        "sample_padded = pad_sequences(sample_seq, maxlen=max_length, padding='post')\n",
        "\n",
        "# Create a model that outputs RNN hidden states\n",
        "from tensorflow.keras.models import Model\n",
        "\n",
        "# Build a functional model to extract RNN outputs\n",
        "embedding_layer = model.layers[0]\n",
        "rnn_layer = model.layers[1]\n",
        "dense_layer = model.layers[2]\n",
        "\n",
        "# Create intermediate model\n",
        "inp = tf.keras.Input(shape=(max_length,))\n",
        "x = embedding_layer(inp)\n",
        "hidden_state = rnn_layer(x)\n",
        "state_model = Model(inputs=inp, outputs=hidden_state)\n",
        "\n",
        "# Get hidden states\n",
        "hidden_output = state_model.predict(sample_padded, verbose=0)\n",
        "\n",
        "print(f\"Input text: {sample_text[0]}\")\n",
        "print(f\"Tokenized sequence: {sample_seq[0]}\")\n",
        "print(f\"Hidden state shape: {hidden_output.shape}\")\n",
        "print(f\"Hidden state values (all {rnn_units} units):\\n{hidden_output[0]}\")\n",
        "\n",
        "# Visualize hidden state\n",
        "plt.figure(figsize=(10, 3))\n",
        "plt.bar(range(len(hidden_output[0])), hidden_output[0])\n",
        "plt.title('RNN Hidden State Representation')\n",
        "plt.xlabel('Hidden Unit Index')\n",
        "plt.ylabel('Activation Value')\n",
        "plt.grid(True, alpha=0.3)\n",
        "plt.axhline(y=0, color='r', linestyle='--', linewidth=0.5)\n",
        "plt.show()\n"
      ],
      "metadata": {
        "colab": {
          "base_uri": "https://localhost:8080/",
          "height": 492
        },
        "id": "X2MMuI-6ZHYv",
        "outputId": "69b8daee-81f2-4b48-d2c9-b3f4de8ff863"
      },
      "execution_count": 32,
      "outputs": [
        {
          "output_type": "stream",
          "name": "stderr",
          "text": [
            "WARNING:tensorflow:5 out of the last 7 calls to <function TensorFlowTrainer.make_predict_function.<locals>.one_step_on_data_distributed at 0x7f1674457060> triggered tf.function retracing. Tracing is expensive and the excessive number of tracings could be due to (1) creating @tf.function repeatedly in a loop, (2) passing tensors with different shapes, (3) passing Python objects instead of tensors. For (1), please define your @tf.function outside of the loop. For (2), @tf.function has reduce_retracing=True option that can avoid unnecessary retracing. For (3), please refer to https://www.tensorflow.org/guide/function#controlling_retracing and https://www.tensorflow.org/api_docs/python/tf/function for  more details.\n"
          ]
        },
        {
          "output_type": "stream",
          "name": "stdout",
          "text": [
            "Input text: This movie is great\n",
            "Tokenized sequence: [3, 4, 1, 14]\n",
            "Hidden state shape: (1, 16)\n",
            "Hidden state values (all 16 units):\n",
            "[-0.06437051  0.15693943 -0.04016403  0.08015049 -0.28927687  0.22036523\n",
            "  0.18624108 -0.02671071 -0.3133024   0.23493227  0.16430673  0.15913731\n",
            " -0.20055574  0.19199376 -0.02520503 -0.05573693]\n"
          ]
        },
        {
          "output_type": "display_data",
          "data": {
            "text/plain": [
              "<Figure size 1000x300 with 1 Axes>"
            ],
            "image/png": "[encoded data removed]"
          },
          "metadata": {}
        }
      ]
    },
    {
      "cell_type": "markdown",
      "source": [
        "# ============================================\n",
        "# Model Evaluation Summary\n",
        "# ============================================\n",
        "## Final evaluation and key takeaways\n"
      ],
      "metadata": {
        "id": "sCCoUWzxZKUZ"
      }
    },
    {
      "cell_type": "code",
      "source": [
        "print(\"\\n\" + \"=\"*50)\n",
        "print(\"RNN SENTIMENT ANALYSIS - KEY CONCEPTS\")\n",
        "print(\"=\"*50)\n",
        "print(\"\"\"\n",
        "1. EMBEDDING LAYER: Converts words to dense vectors\n",
        "   - Maps each word to a learned vector representation\n",
        "   - Captures semantic relationships between words\n",
        "\n",
        "2. RNN LAYER: Processes sequential data\n",
        "   - Maintains hidden state across time steps\n",
        "   - Captures context and word order\n",
        "   - Memory of previous words influences current processing\n",
        "\n",
        "3. ARCHITECTURE FLOW:\n",
        "   Text → Tokenization → Embedding → RNN → Dense → Prediction\n",
        "\n",
        "4. WHY RNN FOR TEXT?\n",
        "   - Handles variable-length sequences\n",
        "   - Captures word order and context\n",
        "   - Learns temporal dependencies\n",
        "\n",
        "5. LIMITATIONS:\n",
        "   - Vanishing gradient problem (use LSTM/GRU for longer sequences)\n",
        "   - Sequential processing (slower than attention mechanisms)\n",
        "\"\"\")\n",
        "\n",
        "print(f\"\\nFinal Training Accuracy: {history.history['accuracy'][-1]:.2%}\")\n",
        "print(f\"Final Validation Accuracy: {history.history['val_accuracy'][-1]:.2%}\")"
      ],
      "metadata": {
        "colab": {
          "base_uri": "https://localhost:8080/"
        },
        "id": "w-UXc_InZPj0",
        "outputId": "4ea4e320-f672-410c-b281-ae7b0d549167"
      },
      "execution_count": 22,
      "outputs": [
        {
          "output_type": "stream",
          "name": "stdout",
          "text": [
            "\n",
            "==================================================\n",
            "RNN SENTIMENT ANALYSIS - KEY CONCEPTS\n",
            "==================================================\n",
            "\n",
            "1. EMBEDDING LAYER: Converts words to dense vectors\n",
            "   - Maps each word to a learned vector representation\n",
            "   - Captures semantic relationships between words\n",
            "\n",
            "2. RNN LAYER: Processes sequential data\n",
            "   - Maintains hidden state across time steps\n",
            "   - Captures context and word order\n",
            "   - Memory of previous words influences current processing\n",
            "\n",
            "3. ARCHITECTURE FLOW:\n",
            "   Text → Tokenization → Embedding → RNN → Dense → Prediction\n",
            "\n",
            "4. WHY RNN FOR TEXT?\n",
            "   - Handles variable-length sequences\n",
            "   - Captures word order and context\n",
            "   - Learns temporal dependencies\n",
            "\n",
            "5. LIMITATIONS:\n",
            "   - Vanishing gradient problem (use LSTM/GRU for longer sequences)\n",
            "   - Sequential processing (slower than attention mechanisms)\n",
            "\n",
            "\n",
            "Final Training Accuracy: 100.00%\n",
            "Final Validation Accuracy: 100.00%\n"
          ]
        }
      ]
    }
  ]
}